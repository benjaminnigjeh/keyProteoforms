{
  "nbformat": 4,
  "nbformat_minor": 0,
  "metadata": {
    "colab": {
      "provenance": [],
      "name": "dimensionalityReduction.ipynb",
      "authorship_tag": "ABX9TyMQiYEtISV9/sgqVJ2C9Jde",
      "include_colab_link": true
    },
    "kernelspec": {
      "name": "python3",
      "display_name": "Python 3"
    },
    "language_info": {
      "name": "python"
    }
  },
  "cells": [
    {
      "cell_type": "markdown",
      "metadata": {
        "id": "view-in-github",
        "colab_type": "text"
      },
      "source": [
        "<a href=\"https://colab.research.google.com/github/benjaminnigjeh/keyProteoforms/blob/main/dimensionalityReduction.ipynb\" target=\"_parent\"><img src=\"https://colab.research.google.com/assets/colab-badge.svg\" alt=\"Open In Colab\"/></a>"
      ]
    },
    {
      "cell_type": "markdown",
      "source": [
        "# Import libraries and dependencies\n",
        "\n",
        "Dimensionality reduction is performed by using tensorfolw and keras as frontend and backend, respectively. The datasets are prepared by using numpy and pandas libraries."
      ],
      "metadata": {
        "id": "BAGdx5ZRmHS4"
      }
    },
    {
      "cell_type": "code",
      "execution_count": 38,
      "metadata": {
        "id": "mjjSfOH_mDpF"
      },
      "outputs": [],
      "source": [
        "import numpy as np\n",
        "import tensorflow as tf\n",
        "import matplotlib.pyplot as plt\n",
        "import pandas as pd\n",
        "from tensorflow import keras\n",
        "from tensorflow.keras import layers\n",
        "from keras.callbacks import TensorBoard\n",
        "from google.colab import files"
      ]
    },
    {
      "cell_type": "markdown",
      "source": [
        "# Set up the tensorboard callback function"
      ],
      "metadata": {
        "id": "1JrMyKVa8RG-"
      }
    },
    {
      "cell_type": "code",
      "source": [
        "NAME = \"Unsupervised_clustering\"\n",
        "tensorboard = TensorBoard(\n",
        "    log_dir='/content/{}'.format(NAME))"
      ],
      "metadata": {
        "id": "Hz4kKRYsmixS"
      },
      "execution_count": 39,
      "outputs": []
    },
    {
      "cell_type": "markdown",
      "source": [
        "# Upload dataset from a local folder\n"
      ],
      "metadata": {
        "id": "Yf0ia7ufn9-j"
      }
    },
    {
      "cell_type": "code",
      "source": [
        "n_dim = 1369\n",
        "dataset = files.upload_file('dataset')\n",
        "df = pd.read_csv('/content/dataset')\n",
        "X = df.copy()\n",
        "Y = X.pop(\"target\")\n",
        "x_train = np.array(X)\n",
        "y_train = np.array(Y)\n"
      ],
      "metadata": {
        "id": "ii4XkJHFm0uD"
      },
      "execution_count": null,
      "outputs": []
    },
    {
      "cell_type": "markdown",
      "source": [
        "#Generate random dataset"
      ],
      "metadata": {
        "id": "qqz8sFcUGKaB"
      }
    },
    {
      "cell_type": "code",
      "source": [
        "n_dim = 1369\n",
        "x_train = np.random.rand(32, n_dim)\n",
        "y_train = np.random.randint(2, size=32)"
      ],
      "metadata": {
        "id": "UGvqE4wyu1IJ"
      },
      "execution_count": 65,
      "outputs": []
    },
    {
      "cell_type": "markdown",
      "source": [
        "# Encoder and decoder architure and VAE class"
      ],
      "metadata": {
        "id": "gcFPhe46wVmB"
      }
    },
    {
      "cell_type": "code",
      "source": [
        "\n",
        "latent_dim = 2\n",
        "\n",
        "# Sampling layer for latent space\n",
        "class Sampling(layers.Layer):\n",
        "    def call(self, inputs):\n",
        "        z_mean, z_log_var = inputs\n",
        "        batch = tf.shape(z_mean)[0]\n",
        "        dim = tf.shape(z_mean)[1]\n",
        "        epsilon = tf.keras.backend.random_normal(shape=(batch, dim))\n",
        "        return z_mean + tf.exp(0.5 * z_log_var) * epsilon\n",
        "\n",
        "# VAE Model for 1D input\n",
        "class VAE(keras.Model):\n",
        "    def __init__(self, encoder, decoder, **kwargs):\n",
        "        super(VAE, self).__init__(**kwargs)\n",
        "        self.encoder = encoder\n",
        "        self.decoder = decoder\n",
        "        self.total_loss_tracker = keras.metrics.Mean(name=\"total_loss\")\n",
        "        self.reconstruction_loss_tracker = keras.metrics.Mean(name=\"reconstruction_loss\")\n",
        "        self.kl_loss_tracker = keras.metrics.Mean(name=\"kl_loss\")\n",
        "\n",
        "    @property\n",
        "    def metrics(self):\n",
        "        return [\n",
        "            self.total_loss_tracker,\n",
        "            self.reconstruction_loss_tracker,\n",
        "            self.kl_loss_tracker,\n",
        "        ]\n",
        "\n",
        "    def train_step(self, data):\n",
        "        with tf.GradientTape() as tape:\n",
        "            # Get the latent variables from the encoder\n",
        "            z_mean, z_log_var, z = self.encoder(data)\n",
        "\n",
        "            # Reconstruct the input from the latent space using the decoder\n",
        "            reconstruction = self.decoder(z)\n",
        "\n",
        "            # Compute reconstruction loss (binary crossentropy for 1D data)\n",
        "            reconstruction_loss = tf.reduce_mean(\n",
        "                keras.losses.binary_crossentropy(data, reconstruction)\n",
        "            )\n",
        "\n",
        "            # Compute KL divergence loss\n",
        "            kl_loss = -0.5 * tf.reduce_mean(\n",
        "                1 + z_log_var - tf.square(z_mean) - tf.exp(z_log_var)\n",
        "            )\n",
        "\n",
        "            # Total loss is the sum of reconstruction and KL loss\n",
        "            total_loss = reconstruction_loss + kl_loss\n",
        "\n",
        "        # Apply gradients to the model\n",
        "        grads = tape.gradient(total_loss, self.trainable_weights)\n",
        "        self.optimizer.apply_gradients(zip(grads, self.trainable_weights))\n",
        "\n",
        "        # Update the metrics\n",
        "        self.total_loss_tracker.update_state(total_loss)\n",
        "        self.reconstruction_loss_tracker.update_state(reconstruction_loss)\n",
        "        self.kl_loss_tracker.update_state(kl_loss)\n",
        "\n",
        "        return {\n",
        "            \"loss\": self.total_loss_tracker.result(),\n",
        "            \"reconstruction_loss\": self.reconstruction_loss_tracker.result(),\n",
        "            \"kl_loss\": self.kl_loss_tracker.result(),\n",
        "        }\n"
      ],
      "metadata": {
        "id": "nGsvCYqGzEeQ"
      },
      "execution_count": 96,
      "outputs": []
    },
    {
      "cell_type": "markdown",
      "source": [
        "#Training function"
      ],
      "metadata": {
        "id": "8vvQBQP_hAwb"
      }
    },
    {
      "cell_type": "code",
      "source": [
        "def vae_training(random_seed):\n",
        "  np.random.seed(random_seed)\n",
        "  tf.random.set_seed(random_seed)\n",
        "  encoder_inputs = keras.Input(shape=(n_dim,))\n",
        "  x = layers.Dense(120 , activation=\"relu\")(encoder_inputs)\n",
        "  x = layers.Dense(120 , activation=\"relu\")(x)\n",
        "  x = layers.Dense(16, activation=\"relu\")(x)\n",
        "  z_mean = layers.Dense(latent_dim, name=\"z_mean\")(x)\n",
        "  z_log_var = layers.Dense(latent_dim, name=\"z_log_var\")(x)\n",
        "  z = Sampling()([z_mean, z_log_var])\n",
        "  encoder = keras.Model(encoder_inputs, [z_mean, z_log_var, z], name=\"encoder\")\n",
        "  latent_inputs = keras.Input(shape=(latent_dim,))\n",
        "  x = layers.Dense(n_dim, activation=\"relu\")(latent_inputs)\n",
        "  decoder_outputs = layers.Dense(n_dim, activation=\"sigmoid\")(x)\n",
        "  decoder = keras.Model(latent_inputs, decoder_outputs, name=\"decoder\")\n",
        "  vae = VAE(encoder, decoder)\n",
        "  vae.compile(optimizer=keras.optimizers.Adam())\n",
        "  history = vae.fit(x_train, epochs=50, callbacks=[tensorboard])\n",
        "  loss = history.history['loss']\n",
        "  return loss"
      ],
      "metadata": {
        "id": "IBQg7cQqGcI4"
      },
      "execution_count": 90,
      "outputs": []
    },
    {
      "cell_type": "markdown",
      "source": [
        "#Training with multiple random initiations"
      ],
      "metadata": {
        "id": "8DyM5HIPhHNW"
      }
    },
    {
      "cell_type": "code",
      "source": [
        "pellet_loss = []\n",
        "\n",
        "for i in [10, 20, 30, 40, 50, 60, 70, 80, 90, 100]:\n",
        "  pellet_loss.append(vae_training(i))\n",
        "\n",
        "# soluble_loss = []\n",
        "\n",
        "# for i in [10, 20, 30, 40, 50, 60, 70, 80, 90, 100]:\n",
        "#   soluble_loss.append(vae_training(i))\n",
        "\n",
        "# random_loss = []\n",
        "\n",
        "# for i in [10, 20, 30, 40, 50, 60, 70, 80, 90, 100]:\n",
        "#   random_loss.append(vae_training(i))"
      ],
      "metadata": {
        "id": "_RXbAROjIStr"
      },
      "execution_count": null,
      "outputs": []
    },
    {
      "cell_type": "markdown",
      "source": [
        "#plotting loss versus epoch"
      ],
      "metadata": {
        "id": "19lq_SFbhZzF"
      }
    },
    {
      "cell_type": "code",
      "source": [
        "data_array = np.array(random_loss)\n",
        "mean_values = np.mean(data_array, axis=0)\n",
        "std_values = np.std(data_array, axis=0)\n",
        "x = np.arange(1, data_array.shape[1] + 1)\n",
        "\n",
        "plt.figure(figsize=(8, 5))\n",
        "plt.errorbar(x, mean_values, yerr=std_values, fmt='o', color='black', label='random loss', capsize=5)\n",
        "\n",
        "data_array = np.array(soluble_loss)\n",
        "mean_values = np.mean(data_array, axis=0)\n",
        "std_values = np.std(data_array, axis=0)\n",
        "x = np.arange(1, data_array.shape[1] + 1)\n",
        "\n",
        "plt.errorbar(x, mean_values, yerr=std_values, fmt='o', color='blue', label='soluble loss', capsize=5)\n",
        "\n",
        "data_array = np.array(pellet_loss)\n",
        "mean_values = np.mean(data_array, axis=0)\n",
        "std_values = np.std(data_array, axis=0)\n",
        "x = np.arange(1, data_array.shape[1] + 1)\n",
        "\n",
        "plt.errorbar(x, mean_values, yerr=std_values, fmt='o', color='red', label='pellet loss', capsize=5)\n",
        "\n",
        "\n",
        "# Adding labels and title\n",
        "plt.xlabel('Epoch')\n",
        "plt.ylabel('Loss')\n",
        "plt.ylim(0.5, 0.8)\n",
        "plt.title('')\n",
        "plt.legend()\n",
        "\n",
        "# Display the plot\n",
        "plt.grid(True)\n",
        "plt.show()\n"
      ],
      "metadata": {
        "id": "Us86k9ZmLT4c"
      },
      "execution_count": null,
      "outputs": []
    },
    {
      "cell_type": "markdown",
      "source": [
        "#visualizing the latent layer"
      ],
      "metadata": {
        "id": "2Q1rxmDDhhKZ"
      }
    },
    {
      "cell_type": "code",
      "source": [
        "np.random.seed(42)\n",
        "tf.random.set_seed(42)\n",
        "encoder_inputs = keras.Input(shape=(n_dim,))\n",
        "x = layers.Dense(120 , activation=\"relu\")(encoder_inputs)\n",
        "x = layers.Dense(120 , activation=\"relu\")(x)\n",
        "x = layers.Dense(16, activation=\"relu\")(x)\n",
        "z_mean = layers.Dense(latent_dim, name=\"z_mean\")(x)\n",
        "z_log_var = layers.Dense(latent_dim, name=\"z_log_var\")(x)\n",
        "z = Sampling()([z_mean, z_log_var])\n",
        "encoder = keras.Model(encoder_inputs, [z_mean, z_log_var, z], name=\"encoder\")\n",
        "latent_inputs = keras.Input(shape=(latent_dim,))\n",
        "x = layers.Dense(n_dim, activation=\"relu\")(latent_inputs)\n",
        "decoder_outputs = layers.Dense(n_dim, activation=\"sigmoid\")(x)\n",
        "decoder = keras.Model(latent_inputs, decoder_outputs, name=\"decoder\")\n",
        "vae = VAE(encoder, decoder)\n",
        "vae.compile(optimizer=keras.optimizers.Adam())\n",
        "vae.fit(x_train, epochs=10, callbacks=[tensorboard])\n",
        "\n",
        "\n",
        "def plot_label_clusters(vae, data, labels):\n",
        "    z_mean, _, _ = vae.encoder.predict(data)\n",
        "    plt.figure(figsize=(12, 10))\n",
        "    plt.scatter(z_mean[:, 0], z_mean[:, 1], c=labels)\n",
        "    plt.colorbar()\n",
        "    plt.xlabel(\"z[0]\")\n",
        "    plt.ylabel(\"z[1]\")\n",
        "    plt.show()\n",
        "\n",
        "plot_label_clusters(vae, x_train, y_train)"
      ],
      "metadata": {
        "id": "DeyNi_Pog7gJ"
      },
      "execution_count": null,
      "outputs": []
    }
  ]
}