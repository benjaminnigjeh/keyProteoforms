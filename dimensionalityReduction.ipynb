{
  "nbformat": 4,
  "nbformat_minor": 0,
  "metadata": {
    "colab": {
      "provenance": [],
      "name": "dimensionalityReduction.ipynb",
      "authorship_tag": "ABX9TyPah+9tXbXSGO/v/7/fU1vv",
      "include_colab_link": true
    },
    "kernelspec": {
      "name": "python3",
      "display_name": "Python 3"
    },
    "language_info": {
      "name": "python"
    }
  },
  "cells": [
    {
      "cell_type": "markdown",
      "metadata": {
        "id": "view-in-github",
        "colab_type": "text"
      },
      "source": [
        "<a href=\"https://colab.research.google.com/github/benjaminnigjeh/keyProteoforms/blob/main/dimensionalityReduction.ipynb\" target=\"_parent\"><img src=\"https://colab.research.google.com/assets/colab-badge.svg\" alt=\"Open In Colab\"/></a>"
      ]
    },
    {
      "cell_type": "markdown",
      "source": [
        "# Import libraries and dependencies\n",
        "\n",
        "Dimensionality reduction is performed by using tensorfolw and keras as frontend and backend, respectively. The datasets are prepared by using numpy and pandas libraries."
      ],
      "metadata": {
        "id": "BAGdx5ZRmHS4"
      }
    },
    {
      "cell_type": "code",
      "execution_count": 27,
      "metadata": {
        "id": "mjjSfOH_mDpF"
      },
      "outputs": [],
      "source": [
        "import numpy as np\n",
        "import tensorflow as tf\n",
        "import matplotlib.pyplot as plt\n",
        "import pandas as pd\n",
        "from tensorflow import keras\n",
        "from tensorflow.keras import layers\n",
        "from keras.callbacks import TensorBoard\n",
        "from google.colab import files"
      ]
    },
    {
      "cell_type": "markdown",
      "source": [
        "# Set up the tensorboard callback function"
      ],
      "metadata": {
        "id": "1JrMyKVa8RG-"
      }
    },
    {
      "cell_type": "code",
      "source": [
        "NAME = \"Unsupervised_clustering\"\n",
        "tensorboard = TensorBoard(\n",
        "    log_dir='/content/{}'.format(NAME))"
      ],
      "metadata": {
        "id": "Hz4kKRYsmixS"
      },
      "execution_count": 28,
      "outputs": []
    },
    {
      "cell_type": "markdown",
      "source": [
        "# Upload dataset from a local folder\n"
      ],
      "metadata": {
        "id": "Yf0ia7ufn9-j"
      }
    },
    {
      "cell_type": "code",
      "source": [
        "n_dim = 1600\n",
        "dataset = files.upload_file('dataset')\n",
        "df = pd.read_csv('/content/dataset')\n",
        "X = df.copy()\n",
        "Y = X.pop(\"target\")\n",
        "x_train = np.array(X)\n",
        "y_train = np.array(Y)\n"
      ],
      "metadata": {
        "id": "ii4XkJHFm0uD",
        "outputId": "9ff2d10a-aa8f-43de-b861-a763c55c9ec7",
        "colab": {
          "base_uri": "https://localhost:8080/",
          "height": 73
        }
      },
      "execution_count": 113,
      "outputs": [
        {
          "output_type": "display_data",
          "data": {
            "text/plain": [
              "<IPython.core.display.HTML object>"
            ],
            "text/html": [
              "\n",
              "     <input type=\"file\" id=\"files-49ad72a5-2fae-4e08-858b-b46452f49711\" name=\"files[]\"  disabled\n",
              "        style=\"border:none\" />\n",
              "     <output id=\"result-49ad72a5-2fae-4e08-858b-b46452f49711\">\n",
              "      Upload widget is only available when the cell has been executed in the\n",
              "      current browser session. Please rerun this cell to enable.\n",
              "      </output>\n",
              "      <script>// Copyright 2017 Google LLC\n",
              "//\n",
              "// Licensed under the Apache License, Version 2.0 (the \"License\");\n",
              "// you may not use this file except in compliance with the License.\n",
              "// You may obtain a copy of the License at\n",
              "//\n",
              "//      http://www.apache.org/licenses/LICENSE-2.0\n",
              "//\n",
              "// Unless required by applicable law or agreed to in writing, software\n",
              "// distributed under the License is distributed on an \"AS IS\" BASIS,\n",
              "// WITHOUT WARRANTIES OR CONDITIONS OF ANY KIND, either express or implied.\n",
              "// See the License for the specific language governing permissions and\n",
              "// limitations under the License.\n",
              "\n",
              "/**\n",
              " * @fileoverview Helpers for google.colab Python module.\n",
              " */\n",
              "(function(scope) {\n",
              "function span(text, styleAttributes = {}) {\n",
              "  const element = document.createElement('span');\n",
              "  element.textContent = text;\n",
              "  for (const key of Object.keys(styleAttributes)) {\n",
              "    element.style[key] = styleAttributes[key];\n",
              "  }\n",
              "  return element;\n",
              "}\n",
              "\n",
              "// Max number of bytes which will be uploaded at a time.\n",
              "const MAX_PAYLOAD_SIZE = 100 * 1024;\n",
              "\n",
              "function _uploadFiles(inputId, outputId) {\n",
              "  const steps = uploadFilesStep(inputId, outputId);\n",
              "  const outputElement = document.getElementById(outputId);\n",
              "  // Cache steps on the outputElement to make it available for the next call\n",
              "  // to uploadFilesContinue from Python.\n",
              "  outputElement.steps = steps;\n",
              "\n",
              "  return _uploadFilesContinue(outputId);\n",
              "}\n",
              "\n",
              "// This is roughly an async generator (not supported in the browser yet),\n",
              "// where there are multiple asynchronous steps and the Python side is going\n",
              "// to poll for completion of each step.\n",
              "// This uses a Promise to block the python side on completion of each step,\n",
              "// then passes the result of the previous step as the input to the next step.\n",
              "function _uploadFilesContinue(outputId) {\n",
              "  const outputElement = document.getElementById(outputId);\n",
              "  const steps = outputElement.steps;\n",
              "\n",
              "  const next = steps.next(outputElement.lastPromiseValue);\n",
              "  return Promise.resolve(next.value.promise).then((value) => {\n",
              "    // Cache the last promise value to make it available to the next\n",
              "    // step of the generator.\n",
              "    outputElement.lastPromiseValue = value;\n",
              "    return next.value.response;\n",
              "  });\n",
              "}\n",
              "\n",
              "/**\n",
              " * Generator function which is called between each async step of the upload\n",
              " * process.\n",
              " * @param {string} inputId Element ID of the input file picker element.\n",
              " * @param {string} outputId Element ID of the output display.\n",
              " * @return {!Iterable<!Object>} Iterable of next steps.\n",
              " */\n",
              "function* uploadFilesStep(inputId, outputId) {\n",
              "  const inputElement = document.getElementById(inputId);\n",
              "  inputElement.disabled = false;\n",
              "\n",
              "  const outputElement = document.getElementById(outputId);\n",
              "  outputElement.innerHTML = '';\n",
              "\n",
              "  const pickedPromise = new Promise((resolve) => {\n",
              "    inputElement.addEventListener('change', (e) => {\n",
              "      resolve(e.target.files);\n",
              "    });\n",
              "  });\n",
              "\n",
              "  const cancel = document.createElement('button');\n",
              "  inputElement.parentElement.appendChild(cancel);\n",
              "  cancel.textContent = 'Cancel upload';\n",
              "  const cancelPromise = new Promise((resolve) => {\n",
              "    cancel.onclick = () => {\n",
              "      resolve(null);\n",
              "    };\n",
              "  });\n",
              "\n",
              "  // Wait for the user to pick the files.\n",
              "  const files = yield {\n",
              "    promise: Promise.race([pickedPromise, cancelPromise]),\n",
              "    response: {\n",
              "      action: 'starting',\n",
              "    }\n",
              "  };\n",
              "\n",
              "  cancel.remove();\n",
              "\n",
              "  // Disable the input element since further picks are not allowed.\n",
              "  inputElement.disabled = true;\n",
              "\n",
              "  if (!files) {\n",
              "    return {\n",
              "      response: {\n",
              "        action: 'complete',\n",
              "      }\n",
              "    };\n",
              "  }\n",
              "\n",
              "  for (const file of files) {\n",
              "    const li = document.createElement('li');\n",
              "    li.append(span(file.name, {fontWeight: 'bold'}));\n",
              "    li.append(span(\n",
              "        `(${file.type || 'n/a'}) - ${file.size} bytes, ` +\n",
              "        `last modified: ${\n",
              "            file.lastModifiedDate ? file.lastModifiedDate.toLocaleDateString() :\n",
              "                                    'n/a'} - `));\n",
              "    const percent = span('0% done');\n",
              "    li.appendChild(percent);\n",
              "\n",
              "    outputElement.appendChild(li);\n",
              "\n",
              "    const fileDataPromise = new Promise((resolve) => {\n",
              "      const reader = new FileReader();\n",
              "      reader.onload = (e) => {\n",
              "        resolve(e.target.result);\n",
              "      };\n",
              "      reader.readAsArrayBuffer(file);\n",
              "    });\n",
              "    // Wait for the data to be ready.\n",
              "    let fileData = yield {\n",
              "      promise: fileDataPromise,\n",
              "      response: {\n",
              "        action: 'continue',\n",
              "      }\n",
              "    };\n",
              "\n",
              "    // Use a chunked sending to avoid message size limits. See b/62115660.\n",
              "    let position = 0;\n",
              "    do {\n",
              "      const length = Math.min(fileData.byteLength - position, MAX_PAYLOAD_SIZE);\n",
              "      const chunk = new Uint8Array(fileData, position, length);\n",
              "      position += length;\n",
              "\n",
              "      const base64 = btoa(String.fromCharCode.apply(null, chunk));\n",
              "      yield {\n",
              "        response: {\n",
              "          action: 'append',\n",
              "          file: file.name,\n",
              "          data: base64,\n",
              "        },\n",
              "      };\n",
              "\n",
              "      let percentDone = fileData.byteLength === 0 ?\n",
              "          100 :\n",
              "          Math.round((position / fileData.byteLength) * 100);\n",
              "      percent.textContent = `${percentDone}% done`;\n",
              "\n",
              "    } while (position < fileData.byteLength);\n",
              "  }\n",
              "\n",
              "  // All done.\n",
              "  yield {\n",
              "    response: {\n",
              "      action: 'complete',\n",
              "    }\n",
              "  };\n",
              "}\n",
              "\n",
              "scope.google = scope.google || {};\n",
              "scope.google.colab = scope.google.colab || {};\n",
              "scope.google.colab._files = {\n",
              "  _uploadFiles,\n",
              "  _uploadFilesContinue,\n",
              "};\n",
              "})(self);\n",
              "</script> "
            ]
          },
          "metadata": {}
        },
        {
          "output_type": "stream",
          "name": "stdout",
          "text": [
            "Saved protein_pellet.csv to /content/dataset\n"
          ]
        }
      ]
    },
    {
      "cell_type": "markdown",
      "source": [
        "#Generate random dataset"
      ],
      "metadata": {
        "id": "qqz8sFcUGKaB"
      }
    },
    {
      "cell_type": "code",
      "source": [
        "n_dim = 1369\n",
        "x_train = np.random.rand(32, n_dim)\n",
        "y_train = np.random.randint(2, size=32)"
      ],
      "metadata": {
        "id": "UGvqE4wyu1IJ"
      },
      "execution_count": 85,
      "outputs": []
    },
    {
      "cell_type": "markdown",
      "source": [
        "# Encoder and decoder architure and VAE class"
      ],
      "metadata": {
        "id": "gcFPhe46wVmB"
      }
    },
    {
      "cell_type": "code",
      "source": [
        "\n",
        "latent_dim = 2\n",
        "\n",
        "# Sampling layer for latent space\n",
        "class Sampling(layers.Layer):\n",
        "    def call(self, inputs):\n",
        "        z_mean, z_log_var = inputs\n",
        "        batch = tf.shape(z_mean)[0]\n",
        "        dim = tf.shape(z_mean)[1]\n",
        "        epsilon = tf.keras.backend.random_normal(shape=(batch, dim))\n",
        "        return z_mean + tf.exp(0.5 * z_log_var) * epsilon\n",
        "\n",
        "# VAE Model for 1D input\n",
        "class VAE(keras.Model):\n",
        "    def __init__(self, encoder, decoder, **kwargs):\n",
        "        super(VAE, self).__init__(**kwargs)\n",
        "        self.encoder = encoder\n",
        "        self.decoder = decoder\n",
        "        self.total_loss_tracker = keras.metrics.Mean(name=\"total_loss\")\n",
        "        self.reconstruction_loss_tracker = keras.metrics.Mean(name=\"reconstruction_loss\")\n",
        "        self.kl_loss_tracker = keras.metrics.Mean(name=\"kl_loss\")\n",
        "\n",
        "    @property\n",
        "    def metrics(self):\n",
        "        return [\n",
        "            self.total_loss_tracker,\n",
        "            self.reconstruction_loss_tracker,\n",
        "            self.kl_loss_tracker,\n",
        "        ]\n",
        "\n",
        "    def train_step(self, data):\n",
        "        with tf.GradientTape() as tape:\n",
        "            # Get the latent variables from the encoder\n",
        "            z_mean, z_log_var, z = self.encoder(data)\n",
        "\n",
        "            # Reconstruct the input from the latent space using the decoder\n",
        "            reconstruction = self.decoder(z)\n",
        "\n",
        "            # Compute reconstruction loss (binary crossentropy for 1D data)\n",
        "            reconstruction_loss = tf.reduce_mean(\n",
        "                keras.losses.binary_crossentropy(data, reconstruction)\n",
        "            )\n",
        "\n",
        "            # Compute KL divergence loss\n",
        "            kl_loss = -0.5 * tf.reduce_mean(\n",
        "                1 + z_log_var - tf.square(z_mean) - tf.exp(z_log_var)\n",
        "            )\n",
        "\n",
        "            # Total loss is the sum of reconstruction and KL loss\n",
        "            total_loss = reconstruction_loss + kl_loss\n",
        "\n",
        "        # Apply gradients to the model\n",
        "        grads = tape.gradient(total_loss, self.trainable_weights)\n",
        "        self.optimizer.apply_gradients(zip(grads, self.trainable_weights))\n",
        "\n",
        "        # Update the metrics\n",
        "        self.total_loss_tracker.update_state(total_loss)\n",
        "        self.reconstruction_loss_tracker.update_state(reconstruction_loss)\n",
        "        self.kl_loss_tracker.update_state(kl_loss)\n",
        "\n",
        "        return {\n",
        "            \"loss\": self.total_loss_tracker.result(),\n",
        "            \"reconstruction_loss\": self.reconstruction_loss_tracker.result(),\n",
        "            \"kl_loss\": self.kl_loss_tracker.result(),\n",
        "        }\n"
      ],
      "metadata": {
        "id": "nGsvCYqGzEeQ"
      },
      "execution_count": 31,
      "outputs": []
    },
    {
      "cell_type": "markdown",
      "source": [
        "#Training function"
      ],
      "metadata": {
        "id": "8vvQBQP_hAwb"
      }
    },
    {
      "cell_type": "code",
      "source": [
        "def vae_training(random_seed):\n",
        "  np.random.seed(random_seed)\n",
        "  tf.random.set_seed(random_seed)\n",
        "  encoder_inputs = keras.Input(shape=(n_dim,))\n",
        "  x = layers.Dense(120 , activation=\"relu\")(encoder_inputs)\n",
        "  x = layers.Dense(120 , activation=\"relu\")(x)\n",
        "  x = layers.Dense(16, activation=\"relu\")(x)\n",
        "  z_mean = layers.Dense(latent_dim, name=\"z_mean\")(x)\n",
        "  z_log_var = layers.Dense(latent_dim, name=\"z_log_var\")(x)\n",
        "  z = Sampling()([z_mean, z_log_var])\n",
        "  encoder = keras.Model(encoder_inputs, [z_mean, z_log_var, z], name=\"encoder\")\n",
        "  latent_inputs = keras.Input(shape=(latent_dim,))\n",
        "  x = layers.Dense(n_dim, activation=\"relu\")(latent_inputs)\n",
        "  decoder_outputs = layers.Dense(n_dim, activation=\"sigmoid\")(x)\n",
        "  decoder = keras.Model(latent_inputs, decoder_outputs, name=\"decoder\")\n",
        "  vae = VAE(encoder, decoder)\n",
        "  vae.compile(optimizer=keras.optimizers.Adam())\n",
        "  history = vae.fit(x_train, epochs=50, callbacks=[tensorboard])\n",
        "  loss = history.history['loss']\n",
        "  return loss"
      ],
      "metadata": {
        "id": "IBQg7cQqGcI4"
      },
      "execution_count": 32,
      "outputs": []
    },
    {
      "cell_type": "markdown",
      "source": [
        "#Training with multiple random initiations"
      ],
      "metadata": {
        "id": "8DyM5HIPhHNW"
      }
    },
    {
      "cell_type": "code",
      "source": [
        "pellet_loss = []\n",
        "\n",
        "for i in [10, 20, 30, 40, 50, 60, 70, 80, 90, 100]:\n",
        "  pellet_loss.append(vae_training(i))\n",
        "\n",
        "# soluble_loss = []\n",
        "\n",
        "# for i in [10, 20, 30, 40, 50, 60, 70, 80, 90, 100]:\n",
        "#   soluble_loss.append(vae_training(i))\n",
        "\n",
        "# random_loss = []\n",
        "\n",
        "# for i in [10, 20, 30, 40, 50, 60, 70, 80, 90, 100]:\n",
        "#   random_loss.append(vae_training(i))"
      ],
      "metadata": {
        "id": "_RXbAROjIStr"
      },
      "execution_count": null,
      "outputs": []
    },
    {
      "cell_type": "markdown",
      "source": [
        "#plotting loss versus epoch"
      ],
      "metadata": {
        "id": "19lq_SFbhZzF"
      }
    },
    {
      "cell_type": "code",
      "source": [
        "data_array = np.array(random_loss)\n",
        "mean_values = np.mean(data_array, axis=0)\n",
        "std_values = np.std(data_array, axis=0)\n",
        "x = np.arange(1, data_array.shape[1] + 1)\n",
        "\n",
        "plt.figure(figsize=(8, 5))\n",
        "plt.errorbar(x, mean_values, yerr=std_values, fmt='o', color='black', label='random loss', capsize=5)\n",
        "\n",
        "data_array = np.array(soluble_loss)\n",
        "mean_values = np.mean(data_array, axis=0)\n",
        "std_values = np.std(data_array, axis=0)\n",
        "x = np.arange(1, data_array.shape[1] + 1)\n",
        "\n",
        "plt.errorbar(x, mean_values, yerr=std_values, fmt='o', color='blue', label='soluble loss', capsize=5)\n",
        "\n",
        "data_array = np.array(pellet_loss)\n",
        "mean_values = np.mean(data_array, axis=0)\n",
        "std_values = np.std(data_array, axis=0)\n",
        "x = np.arange(1, data_array.shape[1] + 1)\n",
        "\n",
        "plt.errorbar(x, mean_values, yerr=std_values, fmt='o', color='red', label='pellet loss', capsize=5)\n",
        "\n",
        "\n",
        "# Adding labels and title\n",
        "plt.xlabel('Epoch')\n",
        "plt.ylabel('Loss')\n",
        "plt.ylim(0.5, 0.8)\n",
        "plt.title('')\n",
        "plt.legend()\n",
        "\n",
        "# Display the plot\n",
        "plt.grid(True)\n",
        "plt.show()\n"
      ],
      "metadata": {
        "id": "Us86k9ZmLT4c"
      },
      "execution_count": null,
      "outputs": []
    },
    {
      "cell_type": "markdown",
      "source": [
        "#visualizing the latent layer"
      ],
      "metadata": {
        "id": "2Q1rxmDDhhKZ"
      }
    },
    {
      "cell_type": "code",
      "source": [
        "np.random.seed(42)\n",
        "tf.random.set_seed(42)\n",
        "encoder_inputs = keras.Input(shape=(n_dim,))\n",
        "x = layers.Dense(120 , activation=\"relu\")(encoder_inputs)\n",
        "x = layers.Dense(120 , activation=\"relu\")(x)\n",
        "x = layers.Dense(16, activation=\"relu\")(x)\n",
        "z_mean = layers.Dense(latent_dim, name=\"z_mean\")(x)\n",
        "z_log_var = layers.Dense(latent_dim, name=\"z_log_var\")(x)\n",
        "z = Sampling()([z_mean, z_log_var])\n",
        "encoder = keras.Model(encoder_inputs, [z_mean, z_log_var, z], name=\"encoder\")\n",
        "latent_inputs = keras.Input(shape=(latent_dim,))\n",
        "x = layers.Dense(n_dim, activation=\"relu\")(latent_inputs)\n",
        "decoder_outputs = layers.Dense(n_dim, activation=\"sigmoid\")(x)\n",
        "decoder = keras.Model(latent_inputs, decoder_outputs, name=\"decoder\")\n",
        "vae = VAE(encoder, decoder)\n",
        "vae.compile(optimizer=keras.optimizers.Adam())\n",
        "vae.fit(x_train, epochs=10, callbacks=[tensorboard])\n",
        "\n",
        "\n",
        "def plot_label_clusters(vae, data, labels):\n",
        "    z_mean, _, _ = vae.encoder.predict(data)\n",
        "    plt.figure(figsize=(12, 10))\n",
        "    plt.scatter(z_mean[:, 0], z_mean[:, 1], c=labels)\n",
        "    plt.colorbar()\n",
        "    plt.xlabel(\"z[0]\")\n",
        "    plt.ylabel(\"z[1]\")\n",
        "    plt.show()\n",
        "\n",
        "plot_label_clusters(vae, x_train, y_train)\n",
        "\n",
        "# Extract latent features\n",
        "z_mean, z_log_var, z = encoder.predict(x_train, batch_size=128)\n",
        "\n",
        "# Use z_mean or z (you can experiment)\n",
        "latent_features = z_mean  # shape: (num_samples, latent_dim)"
      ],
      "metadata": {
        "id": "DeyNi_Pog7gJ"
      },
      "execution_count": null,
      "outputs": []
    },
    {
      "cell_type": "markdown",
      "source": [
        "#Train a classifier on latent space"
      ],
      "metadata": {
        "id": "4ONM-MMb5DQi"
      }
    },
    {
      "cell_type": "code",
      "source": [
        "import numpy as np\n",
        "import matplotlib.pyplot as plt\n",
        "from sklearn.model_selection import KFold\n",
        "from sklearn.metrics import accuracy_score\n",
        "from tensorflow.keras.models import Sequential\n",
        "from tensorflow.keras.layers import Dense\n",
        "from tensorflow.keras.callbacks import Callback\n",
        "\n",
        "np.random.seed(42)\n",
        "tf.random.set_seed(42)\n",
        "\n",
        "# --- Step 1: Define model-building function ---\n",
        "def build_classifier(input_dim, num_classes):\n",
        "    model = Sequential([\n",
        "        Dense(128, activation='relu', input_shape=(input_dim,)),\n",
        "        Dense(64, activation='relu'),\n",
        "        Dense(num_classes, activation='softmax')\n",
        "    ])\n",
        "    model.compile(optimizer='adam', loss='sparse_categorical_crossentropy', metrics=['accuracy'])\n",
        "    return model\n",
        "\n",
        "# --- Step 2: Define custom callback to track accuracy ---\n",
        "class AccuracyCallback(Callback):\n",
        "    def __init__(self, train_data, train_labels, val_data, val_labels):\n",
        "        super().__init__()\n",
        "        self.train_data = train_data\n",
        "        self.train_labels = train_labels\n",
        "        self.val_data = val_data\n",
        "        self.val_labels = val_labels\n",
        "        self.train_accuracies = []\n",
        "        self.val_accuracies = []\n",
        "\n",
        "    def on_epoch_end(self, epoch, logs=None):\n",
        "        y_train_pred = self.model.predict(self.train_data, verbose=0)\n",
        "        train_labels_pred = np.argmax(y_train_pred, axis=1)\n",
        "        train_acc = accuracy_score(self.train_labels, train_labels_pred)\n",
        "        self.train_accuracies.append(train_acc)\n",
        "\n",
        "        y_val_pred = self.model.predict(self.val_data, verbose=0)\n",
        "        val_labels_pred = np.argmax(y_val_pred, axis=1)\n",
        "        val_acc = accuracy_score(self.val_labels, val_labels_pred)\n",
        "        self.val_accuracies.append(val_acc)\n",
        "\n",
        "# --- Step 3: 5-Fold Cross-Validation ---\n",
        "def run_cross_validation(latent_features, y_train, n_splits=5, epochs=200, batch_size=64):\n",
        "    kf = KFold(n_splits=n_splits, shuffle=True, random_state=42)\n",
        "    train_accs = []\n",
        "    val_accs = []\n",
        "\n",
        "    for fold, (train_idx, val_idx) in enumerate(kf.split(latent_features)):\n",
        "        print(f\"\\n--- Fold {fold + 1} ---\")\n",
        "        X_train, X_val = latent_features[train_idx], latent_features[val_idx]\n",
        "        y_train_fold, y_val_fold = y_train[train_idx], y_train[val_idx]\n",
        "\n",
        "        model = build_classifier(input_dim=latent_features.shape[1], num_classes=len(np.unique(y_train)))\n",
        "        acc_callback = AccuracyCallback(X_train, y_train_fold, X_val, y_val_fold)\n",
        "\n",
        "        model.fit(\n",
        "            X_train,\n",
        "            y_train_fold,\n",
        "            epochs=epochs,\n",
        "            batch_size=batch_size,\n",
        "            verbose=0,\n",
        "            callbacks=[acc_callback]\n",
        "        )\n",
        "\n",
        "        train_accs.append(acc_callback.train_accuracies)\n",
        "        val_accs.append(acc_callback.val_accuracies)\n",
        "\n",
        "    return np.array(train_accs), np.array(val_accs)\n",
        "\n",
        "# --- Step 4: Run and plot results ---\n",
        "train_accs, val_accs = run_cross_validation(latent_features, y_train)\n",
        "\n",
        "# Compute mean and std\n",
        "train_mean = np.mean(train_accs, axis=0)\n",
        "train_std = np.std(train_accs, axis=0)\n",
        "\n",
        "val_mean = np.mean(val_accs, axis=0)\n",
        "val_std = np.std(val_accs, axis=0)\n",
        "\n",
        "epochs = np.arange(1, train_mean.shape[0] + 1)\n",
        "\n",
        "# Plot\n",
        "plt.figure(figsize=(12, 6))\n",
        "\n",
        "plt.plot(epochs, train_mean, label='Train Accuracy', color='blue')\n",
        "plt.fill_between(epochs, train_mean - train_std, train_mean + train_std, color='blue', alpha=0.2)\n",
        "\n",
        "plt.plot(epochs, val_mean, label='Validation Accuracy', color='orange')\n",
        "plt.fill_between(epochs, val_mean - val_std, val_mean + val_std, color='orange', alpha=0.2)\n",
        "\n",
        "plt.xlabel(\"Epoch\")\n",
        "plt.ylabel(\"Accuracy\")\n",
        "plt.ylim((0, 1.2))\n",
        "plt.title(\"Train & Validation Accuracy (Mean ± Std) - 5-Fold Cross-Validation\")\n",
        "plt.grid(True)\n",
        "plt.legend()\n",
        "plt.tight_layout()\n",
        "plt.show()\n"
      ],
      "metadata": {
        "id": "5auMZovemFGT"
      },
      "execution_count": null,
      "outputs": []
    }
  ]
}