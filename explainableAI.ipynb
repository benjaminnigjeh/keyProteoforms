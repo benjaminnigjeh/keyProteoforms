{
  "nbformat": 4,
  "nbformat_minor": 0,
  "metadata": {
    "colab": {
      "provenance": [],
      "authorship_tag": "ABX9TyONw/F/Mr7/NyRVXyA4uwU+",
      "include_colab_link": true
    },
    "kernelspec": {
      "name": "python3",
      "display_name": "Python 3"
    },
    "language_info": {
      "name": "python"
    }
  },
  "cells": [
    {
      "cell_type": "markdown",
      "metadata": {
        "id": "view-in-github",
        "colab_type": "text"
      },
      "source": [
        "<a href=\"https://colab.research.google.com/github/benjaminnigjeh/keyProteoforms/blob/main/explainableAI.ipynb\" target=\"_parent\"><img src=\"https://colab.research.google.com/assets/colab-badge.svg\" alt=\"Open In Colab\"/></a>"
      ]
    },
    {
      "cell_type": "code",
      "source": [
        "!apt-get update -qq\n",
        "!apt-get install -y -qq mono-complete\n",
        "!pip install -qq fisher-py"
      ],
      "metadata": {
        "id": "Sadvp9OJ0dDt"
      },
      "execution_count": null,
      "outputs": []
    },
    {
      "cell_type": "markdown",
      "source": [
        "#Import external libraries"
      ],
      "metadata": {
        "id": "VUDgxCFdB488"
      }
    },
    {
      "cell_type": "code",
      "source": [
        "from fisher_py.data.business import Scan\n",
        "from fisher_py import RawFile\n",
        "\n",
        "from google.colab import files\n",
        "\n",
        "import re\n",
        "import os\n",
        "import pandas as pd\n",
        "import numpy as np\n",
        "from tqdm import tqdm\n",
        "import matplotlib.pyplot as plt\n",
        "import seaborn as sns\n",
        "import subprocess\n",
        "\n",
        "from scipy.signal import find_peaks\n",
        "from scipy.signal import savgol_filter\n",
        "from scipy.ndimage import gaussian_filter1d\n",
        "from scipy.linalg import svd\n",
        "\n",
        "import tensorflow as tf\n",
        "from tensorflow.keras.models import Sequential\n",
        "from tensorflow.keras.layers import Dense\n",
        "from tensorflow.keras.optimizers import Adam\n",
        "from tensorflow.keras import regularizers\n",
        "\n",
        "from sklearn.datasets import make_classification\n",
        "from sklearn.datasets import load_iris\n",
        "from sklearn.model_selection import train_test_split\n",
        "from sklearn.preprocessing import StandardScaler\n",
        "from sklearn.model_selection import KFold\n",
        "from sklearn.preprocessing import StandardScaler"
      ],
      "metadata": {
        "id": "GJFZsw6N0J7e",
        "colab": {
          "base_uri": "https://localhost:8080/"
        },
        "outputId": "105de677-b5ab-4aed-9b4e-544ddcbe08f9"
      },
      "execution_count": 2,
      "outputs": [
        {
          "output_type": "stream",
          "name": "stderr",
          "text": [
            "/usr/local/lib/python3.11/dist-packages/clr_loader/mono.py:181: UserWarning: Hosting Mono versions before v6.12 is known to be problematic. If the process crashes shortly after you see this message, try updating Mono to at least v6.12.\n",
            "  warnings.warn(\n",
            "/usr/local/lib/python3.11/dist-packages/numpy/core/getlimits.py:542: UserWarning: Signature b'\\x00\\xd0\\xcc\\xcc\\xcc\\xcc\\xcc\\xcc\\xfb\\xbf\\x00\\x00\\x00\\x00\\x00\\x00' for <class 'numpy.longdouble'> does not match any known type: falling back to type probe function.\n",
            "This warnings indicates broken support for the dtype!\n",
            "  machar = _get_machar(dtype)\n"
          ]
        }
      ]
    },
    {
      "cell_type": "markdown",
      "source": [
        "#Helper functions"
      ],
      "metadata": {
        "id": "xWnlt5yNB-zp"
      }
    },
    {
      "cell_type": "code",
      "source": [
        "def helper_regex(text):\n",
        "    match = re.search(rf\"{'Full'}\\s+(\\w+)\", text)\n",
        "    if match:\n",
        "        return match.group(1)\n",
        "    return None\n",
        "\n",
        "def MS1Casting(folder_path, file_path):\n",
        "    os.chdir(folder_path)\n",
        "    raw = RawFile(file_path)\n",
        "    data_intensities = [0]*1369\n",
        "    for i in tqdm(range(1, raw.number_of_scans)):\n",
        "                raw_scan = Scan.from_file(raw._raw_file_access, scan_number=i)\n",
        "                if str(helper_regex(raw_scan.scan_type)) == 'ms':\n",
        "                        scan_masses = raw_scan.preferred_masses\n",
        "                        scan_intensities = raw_scan.preferred_intensities\n",
        "                        for j in range(0,len(scan_masses)):\n",
        "                                index = round(scan_masses[j])\n",
        "                                if index > 600 and index < 1969:\n",
        "                                        data_intensities[index-600] = scan_intensities[j] + data_intensities[index-600]\n",
        "    return(data_intensities)\n",
        "\n",
        "def MS1Casting_highres(folder_path, file_path):\n",
        "    os.chdir(folder_path)\n",
        "    raw = RawFile(file_path)\n",
        "    data_intensities = [0]*13690\n",
        "    for i in tqdm(range(1, raw.number_of_scans)):\n",
        "                raw_scan = Scan.from_file(raw._raw_file_access, scan_number=i)\n",
        "                if str(helper_regex(raw_scan.scan_type)) == 'ms':\n",
        "                        scan_masses = raw_scan.preferred_masses\n",
        "                        scan_intensities = raw_scan.preferred_intensities\n",
        "                        for j in range(0,len(scan_masses)):\n",
        "                                index = int((round(scan_masses[j], 1))*10)\n",
        "                                if index > 6000 and index < 19690:\n",
        "                                        data_intensities[index-6000] = scan_intensities[j] + data_intensities[index-6000]\n",
        "    return(data_intensities)\n",
        "\n",
        "# Function to compute gradients across all models and average them\n",
        "def compute_gradients_across_models_for_all_samples(X_train_samples, models):\n",
        "    gradients_list = []  # To store the gradients for all samples\n",
        "\n",
        "    # Iterate over each sample in the training set\n",
        "    for sample_input in X_train_samples:\n",
        "        sample_input = tf.expand_dims(sample_input, axis=0)  # Add batch dimension\n",
        "        sample_gradients_list = []  # To store the gradients for this particular sample\n",
        "\n",
        "        # Compute gradients for each model trained in the K-fold process\n",
        "        for model in models:\n",
        "            with tf.GradientTape() as tape:\n",
        "                tape.watch(sample_input)  # Watch the input sample\n",
        "                predictions = model(sample_input, training=False)  # Make predictions\n",
        "            gradients = tape.gradient(predictions, sample_input)  # Compute gradients\n",
        "            sample_gradients_list.append(gradients)\n",
        "\n",
        "        # Average the gradients for this sample across all models\n",
        "        avg_sample_gradients = tf.reduce_mean(tf.stack(sample_gradients_list), axis=0)\n",
        "        gradients_list.append(avg_sample_gradients)\n",
        "\n",
        "    # Average the gradients for all samples across the entire training set\n",
        "    avg_gradients_all_samples = tf.reduce_mean(tf.stack(gradients_list), axis=0)\n",
        "    return avg_gradients_all_samples\n",
        "\n",
        "def charge_state_deconvolution(x_values, y_values, max_charge=50, intensity_threshold=0.0001):\n",
        "\n",
        "    mass_range = np.linspace(10000, 20000, len(x_values))  # Define mass range\n",
        "    deconvoluted_spectrum = np.zeros_like(mass_range)\n",
        "    charge_mapping = {}\n",
        "    peak_list = []\n",
        "\n",
        "    for charge in range(1, max_charge + 1):\n",
        "        neutral_masses = x_values * charge  # Convert m/z to neutral mass\n",
        "        for i, neutral_mass in enumerate(neutral_masses):\n",
        "            if 10000 <= neutral_mass <= 20000 and y_values[i] > intensity_threshold:\n",
        "                idx = np.searchsorted(mass_range, neutral_mass)\n",
        "                if idx < len(deconvoluted_spectrum):\n",
        "                    deconvoluted_spectrum[idx] += y_values[i]  # Sum contributions\n",
        "                    charge_mapping[x_values[i]] = charge  # Store charge state information\n",
        "                    peak_list.append((neutral_mass, deconvoluted_spectrum[idx]))\n",
        "\n",
        "    # Get the top neutral mass\n",
        "    top_peak = max(peak_list, key=lambda x: x[1]) if peak_list else (None, None)\n",
        "\n",
        "    return mass_range, deconvoluted_spectrum, charge_mapping, top_peak\n",
        "\n",
        "def plot_raw_spectrum(x_values, observed_spectrum, charge_mapping):\n",
        "    \"\"\"\n",
        "    Plots the raw observed spectrum with labeled peaks and their charge states.\n",
        "    \"\"\"\n",
        "    plt.figure(figsize=(8, 5))\n",
        "    plt.plot(x_values, observed_spectrum, label='Observed Spectrum', marker='', linestyle='--')\n",
        "\n",
        "    for mz, charge in charge_mapping.items():\n",
        "        plt.annotate(f'z={charge}', (mz, observed_spectrum[np.searchsorted(x_values, mz)]),\n",
        "                     textcoords=\"offset points\", xytext=(0, 5), ha='center', fontsize=8, color='red')\n",
        "\n",
        "    plt.legend()\n",
        "    plt.xlabel('Mass/Charge (m/z)')\n",
        "    plt.ylabel('Intensity')\n",
        "    plt.title('')\n",
        "    plt.show()\n",
        "\n",
        "def targetedQuan(folder_path, file_path, target_amu):\n",
        "    os.chdir(folder_path)\n",
        "    raw = RawFile(file_path)\n",
        "    data_intensity = [0]\n",
        "    for i in tqdm(range(1, raw.number_of_scans)):\n",
        "                raw_scan = Scan.from_file(raw._raw_file_access, scan_number=i)\n",
        "                if str(helper_regex(raw_scan.scan_type)) == 'ms':\n",
        "                        scan_masses = raw_scan.preferred_masses\n",
        "                        scan_intensities = raw_scan.preferred_intensities\n",
        "                        for j in range(0,len(scan_masses)):\n",
        "                          if scan_masses[j] < target_amu + 0.2 and scan_masses[j] > target_amu - 0.2:\n",
        "                               data_intensity = scan_intensities[j] + data_intensity\n",
        "    return(data_intensity)\n"
      ],
      "metadata": {
        "id": "Wm1QrIddBRFn"
      },
      "execution_count": 3,
      "outputs": []
    },
    {
      "cell_type": "markdown",
      "source": [
        "#Generate high-resolution dataset"
      ],
      "metadata": {
        "id": "8HoVj-bWCELz"
      }
    },
    {
      "cell_type": "code",
      "source": [
        "folder_path = 'D:/conv/samples/'\n",
        "\n",
        "os.chdir(folder_path)\n",
        "\n",
        "file_path_list = [f for f in os.listdir(folder_path) if os.path.isfile(os.path.join(folder_path, f))]\n",
        "\n",
        "result = []\n",
        "\n",
        "for file_path in file_path_list:\n",
        "    print(file_path)\n",
        "    folder_path = 'D:/conv/samples/'\n",
        "    result.append(MS1Casting_highres(folder_path, file_path))\n",
        "\n",
        "df = pd.DataFrame(result)\n",
        "\n",
        "column_max = df.max()\n",
        "\n",
        "df_normalized = df / (column_max + 0.001)\n",
        "\n",
        "df_normalized['target'] = file_path_list\n",
        "\n",
        "df_normalized.to_csv('D:/res.csv')"
      ],
      "metadata": {
        "id": "hjvv3-7TBU9t"
      },
      "execution_count": null,
      "outputs": []
    },
    {
      "cell_type": "markdown",
      "source": [
        "#Import dataset"
      ],
      "metadata": {
        "id": "ZsSy0F3SCMF7"
      }
    },
    {
      "cell_type": "code",
      "source": [
        "dataset = files.upload_file('dataset')\n",
        "df = pd.read_csv('/content/dataset')\n",
        "\n",
        "X = df.copy()\n",
        "Y = X.pop(\"target\")\n",
        "X_train = np.array(X)\n",
        "y_train = np.array(Y)\n",
        "\n",
        "X_train = np.nan_to_num(X_train)\n",
        "y_train = np.nan_to_num(y_train)\n"
      ],
      "metadata": {
        "colab": {
          "base_uri": "https://localhost:8080/",
          "height": 73
        },
        "id": "sLEmtLqhBazy",
        "outputId": "e6dc00c1-3160-4e01-a6d1-731e057d7e9e"
      },
      "execution_count": 4,
      "outputs": [
        {
          "output_type": "display_data",
          "data": {
            "text/plain": [
              "<IPython.core.display.HTML object>"
            ],
            "text/html": [
              "\n",
              "     <input type=\"file\" id=\"files-c67525de-a6e5-4d3e-b1bc-442139d3195e\" name=\"files[]\"  disabled\n",
              "        style=\"border:none\" />\n",
              "     <output id=\"result-c67525de-a6e5-4d3e-b1bc-442139d3195e\">\n",
              "      Upload widget is only available when the cell has been executed in the\n",
              "      current browser session. Please rerun this cell to enable.\n",
              "      </output>\n",
              "      <script>// Copyright 2017 Google LLC\n",
              "//\n",
              "// Licensed under the Apache License, Version 2.0 (the \"License\");\n",
              "// you may not use this file except in compliance with the License.\n",
              "// You may obtain a copy of the License at\n",
              "//\n",
              "//      http://www.apache.org/licenses/LICENSE-2.0\n",
              "//\n",
              "// Unless required by applicable law or agreed to in writing, software\n",
              "// distributed under the License is distributed on an \"AS IS\" BASIS,\n",
              "// WITHOUT WARRANTIES OR CONDITIONS OF ANY KIND, either express or implied.\n",
              "// See the License for the specific language governing permissions and\n",
              "// limitations under the License.\n",
              "\n",
              "/**\n",
              " * @fileoverview Helpers for google.colab Python module.\n",
              " */\n",
              "(function(scope) {\n",
              "function span(text, styleAttributes = {}) {\n",
              "  const element = document.createElement('span');\n",
              "  element.textContent = text;\n",
              "  for (const key of Object.keys(styleAttributes)) {\n",
              "    element.style[key] = styleAttributes[key];\n",
              "  }\n",
              "  return element;\n",
              "}\n",
              "\n",
              "// Max number of bytes which will be uploaded at a time.\n",
              "const MAX_PAYLOAD_SIZE = 100 * 1024;\n",
              "\n",
              "function _uploadFiles(inputId, outputId) {\n",
              "  const steps = uploadFilesStep(inputId, outputId);\n",
              "  const outputElement = document.getElementById(outputId);\n",
              "  // Cache steps on the outputElement to make it available for the next call\n",
              "  // to uploadFilesContinue from Python.\n",
              "  outputElement.steps = steps;\n",
              "\n",
              "  return _uploadFilesContinue(outputId);\n",
              "}\n",
              "\n",
              "// This is roughly an async generator (not supported in the browser yet),\n",
              "// where there are multiple asynchronous steps and the Python side is going\n",
              "// to poll for completion of each step.\n",
              "// This uses a Promise to block the python side on completion of each step,\n",
              "// then passes the result of the previous step as the input to the next step.\n",
              "function _uploadFilesContinue(outputId) {\n",
              "  const outputElement = document.getElementById(outputId);\n",
              "  const steps = outputElement.steps;\n",
              "\n",
              "  const next = steps.next(outputElement.lastPromiseValue);\n",
              "  return Promise.resolve(next.value.promise).then((value) => {\n",
              "    // Cache the last promise value to make it available to the next\n",
              "    // step of the generator.\n",
              "    outputElement.lastPromiseValue = value;\n",
              "    return next.value.response;\n",
              "  });\n",
              "}\n",
              "\n",
              "/**\n",
              " * Generator function which is called between each async step of the upload\n",
              " * process.\n",
              " * @param {string} inputId Element ID of the input file picker element.\n",
              " * @param {string} outputId Element ID of the output display.\n",
              " * @return {!Iterable<!Object>} Iterable of next steps.\n",
              " */\n",
              "function* uploadFilesStep(inputId, outputId) {\n",
              "  const inputElement = document.getElementById(inputId);\n",
              "  inputElement.disabled = false;\n",
              "\n",
              "  const outputElement = document.getElementById(outputId);\n",
              "  outputElement.innerHTML = '';\n",
              "\n",
              "  const pickedPromise = new Promise((resolve) => {\n",
              "    inputElement.addEventListener('change', (e) => {\n",
              "      resolve(e.target.files);\n",
              "    });\n",
              "  });\n",
              "\n",
              "  const cancel = document.createElement('button');\n",
              "  inputElement.parentElement.appendChild(cancel);\n",
              "  cancel.textContent = 'Cancel upload';\n",
              "  const cancelPromise = new Promise((resolve) => {\n",
              "    cancel.onclick = () => {\n",
              "      resolve(null);\n",
              "    };\n",
              "  });\n",
              "\n",
              "  // Wait for the user to pick the files.\n",
              "  const files = yield {\n",
              "    promise: Promise.race([pickedPromise, cancelPromise]),\n",
              "    response: {\n",
              "      action: 'starting',\n",
              "    }\n",
              "  };\n",
              "\n",
              "  cancel.remove();\n",
              "\n",
              "  // Disable the input element since further picks are not allowed.\n",
              "  inputElement.disabled = true;\n",
              "\n",
              "  if (!files) {\n",
              "    return {\n",
              "      response: {\n",
              "        action: 'complete',\n",
              "      }\n",
              "    };\n",
              "  }\n",
              "\n",
              "  for (const file of files) {\n",
              "    const li = document.createElement('li');\n",
              "    li.append(span(file.name, {fontWeight: 'bold'}));\n",
              "    li.append(span(\n",
              "        `(${file.type || 'n/a'}) - ${file.size} bytes, ` +\n",
              "        `last modified: ${\n",
              "            file.lastModifiedDate ? file.lastModifiedDate.toLocaleDateString() :\n",
              "                                    'n/a'} - `));\n",
              "    const percent = span('0% done');\n",
              "    li.appendChild(percent);\n",
              "\n",
              "    outputElement.appendChild(li);\n",
              "\n",
              "    const fileDataPromise = new Promise((resolve) => {\n",
              "      const reader = new FileReader();\n",
              "      reader.onload = (e) => {\n",
              "        resolve(e.target.result);\n",
              "      };\n",
              "      reader.readAsArrayBuffer(file);\n",
              "    });\n",
              "    // Wait for the data to be ready.\n",
              "    let fileData = yield {\n",
              "      promise: fileDataPromise,\n",
              "      response: {\n",
              "        action: 'continue',\n",
              "      }\n",
              "    };\n",
              "\n",
              "    // Use a chunked sending to avoid message size limits. See b/62115660.\n",
              "    let position = 0;\n",
              "    do {\n",
              "      const length = Math.min(fileData.byteLength - position, MAX_PAYLOAD_SIZE);\n",
              "      const chunk = new Uint8Array(fileData, position, length);\n",
              "      position += length;\n",
              "\n",
              "      const base64 = btoa(String.fromCharCode.apply(null, chunk));\n",
              "      yield {\n",
              "        response: {\n",
              "          action: 'append',\n",
              "          file: file.name,\n",
              "          data: base64,\n",
              "        },\n",
              "      };\n",
              "\n",
              "      let percentDone = fileData.byteLength === 0 ?\n",
              "          100 :\n",
              "          Math.round((position / fileData.byteLength) * 100);\n",
              "      percent.textContent = `${percentDone}% done`;\n",
              "\n",
              "    } while (position < fileData.byteLength);\n",
              "  }\n",
              "\n",
              "  // All done.\n",
              "  yield {\n",
              "    response: {\n",
              "      action: 'complete',\n",
              "    }\n",
              "  };\n",
              "}\n",
              "\n",
              "scope.google = scope.google || {};\n",
              "scope.google.colab = scope.google.colab || {};\n",
              "scope.google.colab._files = {\n",
              "  _uploadFiles,\n",
              "  _uploadFilesContinue,\n",
              "};\n",
              "})(self);\n",
              "</script> "
            ]
          },
          "metadata": {}
        },
        {
          "output_type": "stream",
          "name": "stdout",
          "text": [
            "Saved res_soluble_sorted.csv to /content/dataset\n"
          ]
        }
      ]
    },
    {
      "cell_type": "code",
      "source": [
        "np.random.seed(42)\n",
        "tf.random.set_seed(42)\n",
        "k = 5  # Number of folds\n",
        "kf = KFold(n_splits=k, shuffle=True, random_state=42)\n",
        "\n",
        "\n",
        "fold_results = []\n",
        "models_from_folds = []  # This list will store models from each fold\n",
        "\n",
        "for fold, (train_idx, val_idx) in enumerate(kf.split(X_train, y_train), 1):\n",
        "    # Define the model and compile it as usual\n",
        "    model = Sequential()\n",
        "    model.add(Dense(128, input_dim=13690, activation='relu',\n",
        "                    kernel_regularizer=regularizers.l1(0.01)))  # L1 regularization\n",
        "    model.add(Dense(32, activation='relu'))  # Hidden layer with 32 units\n",
        "    model.add(Dense(1, activation='sigmoid'))  # Output layer with a single neuron for binary classification\n",
        "    model.compile(optimizer=tf.keras.optimizers.Adam(), loss='binary_crossentropy', metrics=['accuracy'])\n",
        "\n",
        "    # Train the model (using the fold's training data)\n",
        "    history = model.fit(X_train[train_idx], y_train[train_idx], epochs=50, batch_size=32, validation_data=(X_train[val_idx], y_train[val_idx]))\n",
        "    fold_results.append(history.history)\n",
        "    # Save the trained model\n",
        "    models_from_folds.append(model)\n",
        "\n",
        "# After running K-fold validation, plot the loss across all folds\n",
        "for fold_idx, history in enumerate(fold_results):\n",
        "    plt.plot(history['val_loss'], label=f'Val Loss Fold {fold_idx + 1}')\n",
        "plt.title('Binary Cross-Entropy Loss vs Epoch (Across Folds)')\n",
        "plt.xlabel('Epoch')\n",
        "plt.ylabel('Binary Cross-Entropy Loss')\n",
        "plt.legend()\n",
        "plt.show()\n",
        "\n",
        "\n",
        "\n"
      ],
      "metadata": {
        "id": "LmEiNxMrg7en"
      },
      "execution_count": null,
      "outputs": []
    },
    {
      "cell_type": "code",
      "source": [
        "X_train_tensor = tf.convert_to_tensor(X_train, dtype=tf.float32)\n",
        "\n",
        "# Compute average gradients across all samples in X_train\n",
        "average_gradients = compute_gradients_across_models_for_all_samples(X_train_tensor, models_from_folds)\n",
        "\n",
        "y = average_gradients.numpy().flatten()\n",
        "x = np.arange(600, 1969, 0.1)\n",
        "\n",
        "y = average_gradients.numpy().flatten()[0:10000]\n",
        "x = np.arange(600, 1600, 0.1)\n",
        "\n",
        "x_positive = x[y > 0]\n",
        "y_positive = y[y > 0]\n",
        "\n",
        "x_negative = x[y < 0]\n",
        "y_negative = y[y < 0]\n"
      ],
      "metadata": {
        "id": "dEp7lXPIk12b"
      },
      "execution_count": 6,
      "outputs": []
    },
    {
      "cell_type": "code",
      "source": [
        "\n",
        "y_values = (y_negative)*-1\n",
        "x_values = x_negative\n",
        "\n",
        "mass_values, deconvoluted_spectrum, charge_mapping, top_peak = charge_state_deconvolution(x_values, y_values)\n",
        "\n",
        "print(\"Top Neutral Mass (Mass, Intensity):\", top_peak)\n",
        "\n",
        "plot_raw_spectrum(x_values, y_values, charge_mapping)\n",
        "\n"
      ],
      "metadata": {
        "colab": {
          "base_uri": "https://localhost:8080/",
          "height": 482
        },
        "id": "rCeOeCLSAR16",
        "outputId": "d75fa76a-318f-4ae5-9bc8-e382fa75feec"
      },
      "execution_count": 9,
      "outputs": [
        {
          "output_type": "stream",
          "name": "stdout",
          "text": [
            "Top Neutral Mass (Mass, Intensity): (13977.600000001268, 0.0022161742454045452)\n"
          ]
        },
        {
          "output_type": "display_data",
          "data": {
            "text/plain": [
              "<Figure size 800x500 with 1 Axes>"
            ],
            "image/png": "[encoded data removed]"
          },
          "metadata": {}
        }
      ]
    },
    {
      "cell_type": "markdown",
      "source": [
        "# deconvolute using unidec (in windows)"
      ],
      "metadata": {
        "id": "3SPnLR98mSBn"
      }
    },
    {
      "cell_type": "code",
      "source": [
        "import subprocess\n",
        "\n",
        "my_dic = {'x': x_positive, 'y': y_positive}\n",
        "df = pd.DataFrame(my_dic)\n",
        "df.to_csv('positive.csv')\n",
        "\n",
        "\n",
        "file_name = '/positive.csv'\n",
        "command = f\"python -m unidec -f {file_name}\"\n",
        "subprocess.run(command, shell=True)"
      ],
      "metadata": {
        "id": "iTGKhzgifeQP"
      },
      "execution_count": 11,
      "outputs": []
    }
  ]
}