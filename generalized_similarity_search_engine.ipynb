{
  "nbformat": 4,
  "nbformat_minor": 0,
  "metadata": {
    "colab": {
      "provenance": [],
      "mount_file_id": "https://github.com/benjaminnigjeh/keyProteoforms/blob/main/generalized_similarity_search_engine.ipynb",
      "authorship_tag": "ABX9TyPZgvA6F13OSaKuJVr39URe",
      "include_colab_link": true
    },
    "kernelspec": {
      "name": "python3",
      "display_name": "Python 3"
    },
    "language_info": {
      "name": "python"
    }
  },
  "cells": [
    {
      "cell_type": "markdown",
      "metadata": {
        "id": "view-in-github",
        "colab_type": "text"
      },
      "source": [
        "<a href=\"https://colab.research.google.com/github/benjaminnigjeh/keyProteoforms/blob/main/generalized_similarity_search_engine.ipynb\" target=\"_parent\"><img src=\"https://colab.research.google.com/assets/colab-badge.svg\" alt=\"Open In Colab\"/></a>"
      ]
    },
    {
      "cell_type": "code",
      "execution_count": 1,
      "metadata": {
        "id": "CdpIHDgVwsrz"
      },
      "outputs": [],
      "source": [
        "import hashlib\n",
        "import random\n",
        "import numpy as np\n",
        "import tensorflow as tf\n",
        "import matplotlib.pyplot as plt\n",
        "import seaborn as sns\n",
        "import pandas as pd\n",
        "import ast\n",
        "from google.colab import files\n",
        "from sklearn.model_selection import train_test_split\n",
        "from sklearn.metrics import confusion_matrix\n",
        "from sklearn.metrics import ConfusionMatrixDisplay\n",
        "import pickle\n",
        "\n",
        "np.random.seed(42)\n",
        "tf.random.set_seed(42)\n",
        "random.seed(100)"
      ]
    },
    {
      "cell_type": "code",
      "source": [
        "class MinHash:\n",
        "    def __init__(self, num_hashes=100):\n",
        "        self.num_hashes = num_hashes\n",
        "        self.seeds = [random.randint(0, 2**32 - 1) for _ in range(num_hashes)]\n",
        "\n",
        "    def _hash(self, x, seed):\n",
        "        return int(hashlib.md5((str(seed) + x).encode('utf8')).hexdigest(), 16)\n",
        "\n",
        "    def compute(self, set_data):\n",
        "        min_hashes = [min(self._hash(el, seed) for el in set_data) for seed in self.seeds]\n",
        "        return min_hashes\n",
        "\n",
        "    def jaccard_similarity(self, set1, set2):\n",
        "        min_hash1 = self.compute(set1)\n",
        "        min_hash2 = self.compute(set2)\n",
        "        return sum(1 for a, b in zip(min_hash1, min_hash2) if a == b) / self.num_hashes\n",
        "\n",
        "\n",
        "def hashing(str1, str2):\n",
        "\n",
        "    n = 3\n",
        "    set1 = {str1[i:i+n] for i in range(len(str1) - n + 1)}\n",
        "    set2 = {str2[i:i+n] for i in range(len(str2) - n + 1)}\n",
        "    minhash = MinHash(num_hashes=100)\n",
        "    similarity = minhash.jaccard_similarity(set1, set2)\n",
        "    return(1 - similarity)\n",
        "\n",
        "def plot_distribution(data):\n",
        "    if isinstance(data, list):\n",
        "        data = np.array(data)\n",
        "\n",
        "    plt.figure(figsize=(10, 6))\n",
        "\n",
        "    sns.histplot(data, bins=30, kde=True, color='blue', alpha=0.6, stat='density')\n",
        "\n",
        "    plt.xlabel('Value')\n",
        "    plt.ylabel('Density')\n",
        "    plt.title('Distribution of Numbers')\n",
        "\n",
        "    plt.grid(True)\n",
        "    plt.show()\n",
        "\n",
        "def plot_confusion_matrix(model, X_test, y_test):\n",
        "  y_true = [0 if x < 0.5 else 1 for x in y_test]\n",
        "  y_pred = [0 if x < 0.5 else 1 for x in model.predict(X_test)]\n",
        "\n",
        "  cm = confusion_matrix(y_true, y_pred)\n",
        "  disp = ConfusionMatrixDisplay(confusion_matrix=cm, display_labels=np.unique(y_true))\n",
        "  disp.plot(cmap=plt.cm.Blues)\n",
        "  plt.title('Confusion Matrix')\n",
        "  plt.show()"
      ],
      "metadata": {
        "id": "vI8gP6OomwbG"
      },
      "execution_count": 2,
      "outputs": []
    },
    {
      "cell_type": "code",
      "source": [
        "from google.colab import drive\n",
        "drive.mount('/content/drive')\n",
        "\n",
        "df = pd.read_hdf(\"/content/drive/MyDrive/databank_updated\", key=\"databank\")"
      ],
      "metadata": {
        "colab": {
          "base_uri": "https://localhost:8080/"
        },
        "id": "ned_C_MfmtzZ",
        "outputId": "a2246942-24fc-49ea-8689-65f986f830a5"
      },
      "execution_count": 16,
      "outputs": [
        {
          "output_type": "stream",
          "name": "stdout",
          "text": [
            "Drive already mounted at /content/drive; to attempt to forcibly remount, call drive.mount(\"/content/drive\", force_remount=True).\n"
          ]
        }
      ]
    },
    {
      "cell_type": "code",
      "source": [
        "df.columns"
      ],
      "metadata": {
        "colab": {
          "base_uri": "https://localhost:8080/"
        },
        "id": "YmhWlbeem2eb",
        "outputId": "01542bf9-a42d-450b-8127-86a41702459f"
      },
      "execution_count": 17,
      "outputs": [
        {
          "output_type": "execute_result",
          "data": {
            "text/plain": [
              "Index(['sample_name', 'group_name', 'sample_prep', 'scan', 'scan_type',\n",
              "       'retntion time', 'm/z', 'cast spectra', 'sequence', 'MASS',\n",
              "       'Uniprot ID', 'Accession'],\n",
              "      dtype='object')"
            ]
          },
          "metadata": {},
          "execution_count": 17
        }
      ]
    },
    {
      "cell_type": "code",
      "source": [
        "a = df['Uniprot ID'].unique()\n",
        "b = df['Uniprot ID'].value_counts().reindex(a, fill_value=0).tolist()\n",
        "\n",
        "sorted_accessions = sorted(zip(a, b), key=lambda x: x[1], reverse=True)\n",
        "\n",
        "sorted_accessions[1][0]"
      ],
      "metadata": {
        "colab": {
          "base_uri": "https://localhost:8080/",
          "height": 35
        },
        "id": "6GxFJfU6oNgk",
        "outputId": "6ee28e63-b07b-451f-c42f-aa4d0f89dd13"
      },
      "execution_count": 18,
      "outputs": [
        {
          "output_type": "execute_result",
          "data": {
            "text/plain": [
              "'MBP_HUMAN'"
            ],
            "application/vnd.google.colaboratory.intrinsic+json": {
              "type": "string"
            }
          },
          "metadata": {},
          "execution_count": 18
        }
      ]
    },
    {
      "cell_type": "code",
      "source": [
        "df = df.copy()"
      ],
      "metadata": {
        "id": "YAiQHHX-KaG2"
      },
      "execution_count": 19,
      "outputs": []
    },
    {
      "cell_type": "code",
      "source": [
        "id = []\n",
        "sequence = []\n",
        "cast = []\n",
        "\n",
        "for i in range(0, len(df['scan'])):\n",
        "    if df['scan_type'][i] == 'MS2':\n",
        "        if df['Uniprot ID'][i] != 'None':\n",
        "            id.append(df['Uniprot ID'][i])\n",
        "            sequence.append(df['sequence'][i])\n",
        "            cast.append(df['cast spectra'][i])\n",
        "\n",
        "ref_seq = 'MDVFMKGLSKAKEGVVAAAEKTKQGVAEAAGKTKEGVLYVGSKTKEGVVHGVATVAEKTKEQVTNVGGAVVTGVTAVAQKTVEGAGSIAAATGFVKKDQLGKNEEGAPQEGILEDMPVDPDNEAYEMPSEEGYQDYEPEA'"
      ],
      "metadata": {
        "id": "oHb-jjkAKU6Z"
      },
      "execution_count": 20,
      "outputs": []
    },
    {
      "cell_type": "code",
      "source": [
        "len(id)"
      ],
      "metadata": {
        "id": "ZrWHWjFsfhyU",
        "outputId": "47bb5294-950b-48bb-d0e9-070ae6dc1a88",
        "colab": {
          "base_uri": "https://localhost:8080/"
        }
      },
      "execution_count": 21,
      "outputs": [
        {
          "output_type": "execute_result",
          "data": {
            "text/plain": [
              "4485"
            ]
          },
          "metadata": {},
          "execution_count": 21
        }
      ]
    },
    {
      "cell_type": "code",
      "source": [
        "cast_flat = []\n",
        "hash = []\n",
        "\n",
        "for i in range(0, len(sequence)):\n",
        "    print(i)\n",
        "    cast_flat.append(cast[i])\n",
        "    hash.append(hashing(sequence[i], ref_seq))\n",
        "\n",
        "X = np.array(cast_flat)\n",
        "y = np.array(hash)\n",
        "\n",
        "X_train, X_test, y_train, y_test = train_test_split(X, y, test_size=0.1, random_state=100)\n"
      ],
      "metadata": {
        "id": "hFKuEaqpKdY2"
      },
      "execution_count": null,
      "outputs": []
    },
    {
      "cell_type": "code",
      "source": [
        "import matplotlib.pyplot as plt\n",
        "import tensorflow as tf\n",
        "\n",
        "# Define model\n",
        "model = tf.keras.Sequential([\n",
        "    tf.keras.layers.Dense(128, activation='relu', input_shape=(1600,)),\n",
        "    tf.keras.layers.Dense(64, activation='relu'),\n",
        "    tf.keras.layers.Dense(1, activation='sigmoid')\n",
        "])\n",
        "\n",
        "# Compile the model\n",
        "model.compile(optimizer='adam', loss='mean_squared_error', metrics=['mae'])\n",
        "\n",
        "# Train the model and store training history\n",
        "history = model.fit(X_train, y_train, epochs=40, batch_size=512, validation_split=0.2)\n",
        "\n",
        "# Evaluate on test data\n",
        "test_loss, test_mae = model.evaluate(X_test, y_test)\n",
        "print(f\"Test Loss (MSE): {test_loss:.4f}\")\n",
        "\n",
        "# 🎨 Plot loss curve\n",
        "plt.figure(figsize=(8, 5))\n",
        "plt.plot(history.history['loss'], label='Training Loss', color='blue')\n",
        "plt.plot(history.history['val_loss'], label='Validation Loss', color='red')\n",
        "plt.xlabel('Epochs')\n",
        "plt.ylabel('Loss (MSE)')\n",
        "plt.title('Training and Validation Loss Over Epochs')\n",
        "plt.legend()\n",
        "plt.grid(True)\n",
        "plt.show()\n"
      ],
      "metadata": {
        "colab": {
          "base_uri": "https://localhost:8080/",
          "height": 1000
        },
        "id": "ECW7JMD2KjUC",
        "outputId": "656c811c-9cb9-4d98-c18d-936756f5cbe8"
      },
      "execution_count": 23,
      "outputs": [
        {
          "output_type": "stream",
          "name": "stderr",
          "text": [
            "/usr/local/lib/python3.11/dist-packages/keras/src/layers/core/dense.py:87: UserWarning: Do not pass an `input_shape`/`input_dim` argument to a layer. When using Sequential models, prefer using an `Input(shape)` object as the first layer in the model instead.\n",
            "  super().__init__(activity_regularizer=activity_regularizer, **kwargs)\n"
          ]
        },
        {
          "output_type": "stream",
          "name": "stdout",
          "text": [
            "Epoch 1/40\n",
            "\u001b[1m7/7\u001b[0m \u001b[32m━━━━━━━━━━━━━━━━━━━━\u001b[0m\u001b[37m\u001b[0m \u001b[1m2s\u001b[0m 67ms/step - loss: 0.1901 - mae: 0.4279 - val_loss: 0.0914 - val_mae: 0.2586\n",
            "Epoch 2/40\n",
            "\u001b[1m7/7\u001b[0m \u001b[32m━━━━━━━━━━━━━━━━━━━━\u001b[0m\u001b[37m\u001b[0m \u001b[1m1s\u001b[0m 35ms/step - loss: 0.0814 - mae: 0.2265 - val_loss: 0.0649 - val_mae: 0.1535\n",
            "Epoch 3/40\n",
            "\u001b[1m7/7\u001b[0m \u001b[32m━━━━━━━━━━━━━━━━━━━━\u001b[0m\u001b[37m\u001b[0m \u001b[1m0s\u001b[0m 28ms/step - loss: 0.0615 - mae: 0.1455 - val_loss: 0.0559 - val_mae: 0.1310\n",
            "Epoch 4/40\n",
            "\u001b[1m7/7\u001b[0m \u001b[32m━━━━━━━━━━━━━━━━━━━━\u001b[0m\u001b[37m\u001b[0m \u001b[1m0s\u001b[0m 26ms/step - loss: 0.0541 - mae: 0.1271 - val_loss: 0.0487 - val_mae: 0.1212\n",
            "Epoch 5/40\n",
            "\u001b[1m7/7\u001b[0m \u001b[32m━━━━━━━━━━━━━━━━━━━━\u001b[0m\u001b[37m\u001b[0m \u001b[1m0s\u001b[0m 33ms/step - loss: 0.0472 - mae: 0.1174 - val_loss: 0.0408 - val_mae: 0.1105\n",
            "Epoch 6/40\n",
            "\u001b[1m7/7\u001b[0m \u001b[32m━━━━━━━━━━━━━━━━━━━━\u001b[0m\u001b[37m\u001b[0m \u001b[1m0s\u001b[0m 28ms/step - loss: 0.0395 - mae: 0.1069 - val_loss: 0.0332 - val_mae: 0.1004\n",
            "Epoch 7/40\n",
            "\u001b[1m7/7\u001b[0m \u001b[32m━━━━━━━━━━━━━━━━━━━━\u001b[0m\u001b[37m\u001b[0m \u001b[1m0s\u001b[0m 28ms/step - loss: 0.0314 - mae: 0.0964 - val_loss: 0.0256 - val_mae: 0.0875\n",
            "Epoch 8/40\n",
            "\u001b[1m7/7\u001b[0m \u001b[32m━━━━━━━━━━━━━━━━━━━━\u001b[0m\u001b[37m\u001b[0m \u001b[1m0s\u001b[0m 29ms/step - loss: 0.0227 - mae: 0.0821 - val_loss: 0.0203 - val_mae: 0.0748\n",
            "Epoch 9/40\n",
            "\u001b[1m7/7\u001b[0m \u001b[32m━━━━━━━━━━━━━━━━━━━━\u001b[0m\u001b[37m\u001b[0m \u001b[1m0s\u001b[0m 33ms/step - loss: 0.0164 - mae: 0.0683 - val_loss: 0.0171 - val_mae: 0.0642\n",
            "Epoch 10/40\n",
            "\u001b[1m7/7\u001b[0m \u001b[32m━━━━━━━━━━━━━━━━━━━━\u001b[0m\u001b[37m\u001b[0m \u001b[1m0s\u001b[0m 29ms/step - loss: 0.0125 - mae: 0.0567 - val_loss: 0.0151 - val_mae: 0.0569\n",
            "Epoch 11/40\n",
            "\u001b[1m7/7\u001b[0m \u001b[32m━━━━━━━━━━━━━━━━━━━━\u001b[0m\u001b[37m\u001b[0m \u001b[1m0s\u001b[0m 28ms/step - loss: 0.0100 - mae: 0.0488 - val_loss: 0.0144 - val_mae: 0.0524\n",
            "Epoch 12/40\n",
            "\u001b[1m7/7\u001b[0m \u001b[32m━━━━━━━━━━━━━━━━━━━━\u001b[0m\u001b[37m\u001b[0m \u001b[1m0s\u001b[0m 47ms/step - loss: 0.0085 - mae: 0.0437 - val_loss: 0.0140 - val_mae: 0.0496\n",
            "Epoch 13/40\n",
            "\u001b[1m7/7\u001b[0m \u001b[32m━━━━━━━━━━━━━━━━━━━━\u001b[0m\u001b[37m\u001b[0m \u001b[1m1s\u001b[0m 42ms/step - loss: 0.0073 - mae: 0.0403 - val_loss: 0.0137 - val_mae: 0.0477\n",
            "Epoch 14/40\n",
            "\u001b[1m7/7\u001b[0m \u001b[32m━━━━━━━━━━━━━━━━━━━━\u001b[0m\u001b[37m\u001b[0m \u001b[1m1s\u001b[0m 49ms/step - loss: 0.0064 - mae: 0.0379 - val_loss: 0.0133 - val_mae: 0.0462\n",
            "Epoch 15/40\n",
            "\u001b[1m7/7\u001b[0m \u001b[32m━━━━━━━━━━━━━━━━━━━━\u001b[0m\u001b[37m\u001b[0m \u001b[1m1s\u001b[0m 43ms/step - loss: 0.0057 - mae: 0.0360 - val_loss: 0.0130 - val_mae: 0.0451\n",
            "Epoch 16/40\n",
            "\u001b[1m7/7\u001b[0m \u001b[32m━━━━━━━━━━━━━━━━━━━━\u001b[0m\u001b[37m\u001b[0m \u001b[1m1s\u001b[0m 46ms/step - loss: 0.0051 - mae: 0.0344 - val_loss: 0.0127 - val_mae: 0.0441\n",
            "Epoch 17/40\n",
            "\u001b[1m7/7\u001b[0m \u001b[32m━━━━━━━━━━━━━━━━━━━━\u001b[0m\u001b[37m\u001b[0m \u001b[1m0s\u001b[0m 43ms/step - loss: 0.0046 - mae: 0.0331 - val_loss: 0.0124 - val_mae: 0.0432\n",
            "Epoch 18/40\n",
            "\u001b[1m7/7\u001b[0m \u001b[32m━━━━━━━━━━━━━━━━━━━━\u001b[0m\u001b[37m\u001b[0m \u001b[1m1s\u001b[0m 31ms/step - loss: 0.0042 - mae: 0.0320 - val_loss: 0.0122 - val_mae: 0.0424\n",
            "Epoch 19/40\n",
            "\u001b[1m7/7\u001b[0m \u001b[32m━━━━━━━━━━━━━━━━━━━━\u001b[0m\u001b[37m\u001b[0m \u001b[1m0s\u001b[0m 28ms/step - loss: 0.0038 - mae: 0.0309 - val_loss: 0.0120 - val_mae: 0.0416\n",
            "Epoch 20/40\n",
            "\u001b[1m7/7\u001b[0m \u001b[32m━━━━━━━━━━━━━━━━━━━━\u001b[0m\u001b[37m\u001b[0m \u001b[1m0s\u001b[0m 32ms/step - loss: 0.0035 - mae: 0.0299 - val_loss: 0.0120 - val_mae: 0.0411\n",
            "Epoch 21/40\n",
            "\u001b[1m7/7\u001b[0m \u001b[32m━━━━━━━━━━━━━━━━━━━━\u001b[0m\u001b[37m\u001b[0m \u001b[1m0s\u001b[0m 38ms/step - loss: 0.0032 - mae: 0.0290 - val_loss: 0.0120 - val_mae: 0.0406\n",
            "Epoch 22/40\n",
            "\u001b[1m7/7\u001b[0m \u001b[32m━━━━━━━━━━━━━━━━━━━━\u001b[0m\u001b[37m\u001b[0m \u001b[1m0s\u001b[0m 28ms/step - loss: 0.0030 - mae: 0.0282 - val_loss: 0.0120 - val_mae: 0.0402\n",
            "Epoch 23/40\n",
            "\u001b[1m7/7\u001b[0m \u001b[32m━━━━━━━━━━━━━━━━━━━━\u001b[0m\u001b[37m\u001b[0m \u001b[1m0s\u001b[0m 28ms/step - loss: 0.0028 - mae: 0.0275 - val_loss: 0.0120 - val_mae: 0.0399\n",
            "Epoch 24/40\n",
            "\u001b[1m7/7\u001b[0m \u001b[32m━━━━━━━━━━━━━━━━━━━━\u001b[0m\u001b[37m\u001b[0m \u001b[1m0s\u001b[0m 33ms/step - loss: 0.0026 - mae: 0.0269 - val_loss: 0.0120 - val_mae: 0.0396\n",
            "Epoch 25/40\n",
            "\u001b[1m7/7\u001b[0m \u001b[32m━━━━━━━━━━━━━━━━━━━━\u001b[0m\u001b[37m\u001b[0m \u001b[1m0s\u001b[0m 33ms/step - loss: 0.0025 - mae: 0.0264 - val_loss: 0.0119 - val_mae: 0.0393\n",
            "Epoch 26/40\n",
            "\u001b[1m7/7\u001b[0m \u001b[32m━━━━━━━━━━━━━━━━━━━━\u001b[0m\u001b[37m\u001b[0m \u001b[1m0s\u001b[0m 28ms/step - loss: 0.0024 - mae: 0.0260 - val_loss: 0.0120 - val_mae: 0.0390\n",
            "Epoch 27/40\n",
            "\u001b[1m7/7\u001b[0m \u001b[32m━━━━━━━━━━━━━━━━━━━━\u001b[0m\u001b[37m\u001b[0m \u001b[1m0s\u001b[0m 33ms/step - loss: 0.0023 - mae: 0.0256 - val_loss: 0.0119 - val_mae: 0.0388\n",
            "Epoch 28/40\n",
            "\u001b[1m7/7\u001b[0m \u001b[32m━━━━━━━━━━━━━━━━━━━━\u001b[0m\u001b[37m\u001b[0m \u001b[1m0s\u001b[0m 27ms/step - loss: 0.0022 - mae: 0.0252 - val_loss: 0.0119 - val_mae: 0.0386\n",
            "Epoch 29/40\n",
            "\u001b[1m7/7\u001b[0m \u001b[32m━━━━━━━━━━━━━━━━━━━━\u001b[0m\u001b[37m\u001b[0m \u001b[1m0s\u001b[0m 30ms/step - loss: 0.0021 - mae: 0.0249 - val_loss: 0.0119 - val_mae: 0.0385\n",
            "Epoch 30/40\n",
            "\u001b[1m7/7\u001b[0m \u001b[32m━━━━━━━━━━━━━━━━━━━━\u001b[0m\u001b[37m\u001b[0m \u001b[1m0s\u001b[0m 26ms/step - loss: 0.0021 - mae: 0.0246 - val_loss: 0.0119 - val_mae: 0.0383\n",
            "Epoch 31/40\n",
            "\u001b[1m7/7\u001b[0m \u001b[32m━━━━━━━━━━━━━━━━━━━━\u001b[0m\u001b[37m\u001b[0m \u001b[1m0s\u001b[0m 26ms/step - loss: 0.0020 - mae: 0.0243 - val_loss: 0.0119 - val_mae: 0.0382\n",
            "Epoch 32/40\n",
            "\u001b[1m7/7\u001b[0m \u001b[32m━━━━━━━━━━━━━━━━━━━━\u001b[0m\u001b[37m\u001b[0m \u001b[1m0s\u001b[0m 26ms/step - loss: 0.0020 - mae: 0.0240 - val_loss: 0.0118 - val_mae: 0.0380\n",
            "Epoch 33/40\n",
            "\u001b[1m7/7\u001b[0m \u001b[32m━━━━━━━━━━━━━━━━━━━━\u001b[0m\u001b[37m\u001b[0m \u001b[1m0s\u001b[0m 29ms/step - loss: 0.0019 - mae: 0.0238 - val_loss: 0.0119 - val_mae: 0.0380\n",
            "Epoch 34/40\n",
            "\u001b[1m7/7\u001b[0m \u001b[32m━━━━━━━━━━━━━━━━━━━━\u001b[0m\u001b[37m\u001b[0m \u001b[1m0s\u001b[0m 25ms/step - loss: 0.0019 - mae: 0.0236 - val_loss: 0.0118 - val_mae: 0.0378\n",
            "Epoch 35/40\n",
            "\u001b[1m7/7\u001b[0m \u001b[32m━━━━━━━━━━━━━━━━━━━━\u001b[0m\u001b[37m\u001b[0m \u001b[1m0s\u001b[0m 28ms/step - loss: 0.0018 - mae: 0.0234 - val_loss: 0.0118 - val_mae: 0.0379\n",
            "Epoch 36/40\n",
            "\u001b[1m7/7\u001b[0m \u001b[32m━━━━━━━━━━━━━━━━━━━━\u001b[0m\u001b[37m\u001b[0m \u001b[1m0s\u001b[0m 27ms/step - loss: 0.0018 - mae: 0.0232 - val_loss: 0.0117 - val_mae: 0.0376\n",
            "Epoch 37/40\n",
            "\u001b[1m7/7\u001b[0m \u001b[32m━━━━━━━━━━━━━━━━━━━━\u001b[0m\u001b[37m\u001b[0m \u001b[1m0s\u001b[0m 36ms/step - loss: 0.0017 - mae: 0.0231 - val_loss: 0.0119 - val_mae: 0.0379\n",
            "Epoch 38/40\n",
            "\u001b[1m7/7\u001b[0m \u001b[32m━━━━━━━━━━━━━━━━━━━━\u001b[0m\u001b[37m\u001b[0m \u001b[1m0s\u001b[0m 27ms/step - loss: 0.0017 - mae: 0.0229 - val_loss: 0.0116 - val_mae: 0.0376\n",
            "Epoch 39/40\n",
            "\u001b[1m7/7\u001b[0m \u001b[32m━━━━━━━━━━━━━━━━━━━━\u001b[0m\u001b[37m\u001b[0m \u001b[1m0s\u001b[0m 28ms/step - loss: 0.0017 - mae: 0.0228 - val_loss: 0.0119 - val_mae: 0.0377\n",
            "Epoch 40/40\n",
            "\u001b[1m7/7\u001b[0m \u001b[32m━━━━━━━━━━━━━━━━━━━━\u001b[0m\u001b[37m\u001b[0m \u001b[1m0s\u001b[0m 29ms/step - loss: 0.0016 - mae: 0.0226 - val_loss: 0.0120 - val_mae: 0.0379\n",
            "\u001b[1m15/15\u001b[0m \u001b[32m━━━━━━━━━━━━━━━━━━━━\u001b[0m\u001b[37m\u001b[0m \u001b[1m0s\u001b[0m 4ms/step - loss: 0.0143 - mae: 0.0409 \n",
            "Test Loss (MSE): 0.0137\n"
          ]
        },
        {
          "output_type": "display_data",
          "data": {
            "text/plain": [
              "<Figure size 800x500 with 1 Axes>"
            ],
            "image/png": "[encoded data removed]"
          },
          "metadata": {}
        }
      ]
    },
    {
      "cell_type": "code",
      "source": [
        "from sklearn.metrics import confusion_matrix, ConfusionMatrixDisplay\n",
        "import numpy as np\n",
        "import matplotlib.pyplot as plt\n",
        "\n",
        "def plot_confusion_matrix(model, X_test, y_test):\n",
        "    # Ensure y_test is binary (0 or 1)\n",
        "    #y_test = np.array(y_test).astype(int)  # ✅ Convert to integer if needed\n",
        "    y_test = np.where(np.array(y_test) > 0.5, 1, 0).astype(int)\n",
        "\n",
        "    # Get model predictions\n",
        "    y_scores = model.predict(X_test)\n",
        "\n",
        "    # Convert predictions to binary labels\n",
        "    y_pred = (y_scores >= 0.5).astype(int).flatten()  # ✅ Convert float → int\n",
        "\n",
        "    # Ensure shapes match\n",
        "    if y_test.shape != y_pred.shape:\n",
        "        print(f\"Shape mismatch: y_test {y_test.shape}, y_pred {y_pred.shape}\")\n",
        "        y_test = y_test.flatten()\n",
        "\n",
        "    # Compute confusion matrix\n",
        "    cm = confusion_matrix(y_test, y_pred)\n",
        "\n",
        "    # Display the confusion matrix\n",
        "    disp = ConfusionMatrixDisplay(confusion_matrix=cm, display_labels=[0, 1])\n",
        "    disp.plot(cmap=plt.cm.Blues)\n",
        "\n",
        "    # Show the plot\n",
        "    plt.show()\n",
        "\n",
        "# Call the function\n",
        "plot_confusion_matrix(model, X_test, y_test)"
      ],
      "metadata": {
        "colab": {
          "base_uri": "https://localhost:8080/",
          "height": 467
        },
        "id": "XGm01-SSKnvC",
        "outputId": "35392846-be53-4a31-e31e-0d8d9fffac90"
      },
      "execution_count": 24,
      "outputs": [
        {
          "output_type": "stream",
          "name": "stdout",
          "text": [
            "\u001b[1m15/15\u001b[0m \u001b[32m━━━━━━━━━━━━━━━━━━━━\u001b[0m\u001b[37m\u001b[0m \u001b[1m0s\u001b[0m 8ms/step\n"
          ]
        },
        {
          "output_type": "display_data",
          "data": {
            "text/plain": [
              "<Figure size 640x480 with 2 Axes>"
            ],
            "image/png": "[encoded data removed]"
          },
          "metadata": {}
        }
      ]
    },
    {
      "cell_type": "code",
      "source": [
        "import numpy as np\n",
        "import matplotlib.pyplot as plt\n",
        "import seaborn as sns\n",
        "\n",
        "# Generate sample data\n",
        "data = np.array(hash)  # Normally distributed data\n",
        "\n",
        "# Plot the frequency distribution\n",
        "plt.figure(figsize=(8, 6))\n",
        "sns.histplot(data, bins=100, kde=True, color='blue', legend=False)\n",
        "\n",
        "#plt.yscale('log', base=2)\n",
        "# Labels and title\n",
        "plt.xlabel('Value')\n",
        "plt.ylabel('Frequency')\n",
        "plt.title('Frequency Distribution')\n",
        "\n",
        "# Show the plot\n",
        "plt.show()\n"
      ],
      "metadata": {
        "colab": {
          "base_uri": "https://localhost:8080/",
          "height": 564
        },
        "id": "wY2kgZowKs_l",
        "outputId": "f729e4f4-5e11-488f-c1dc-76e5af0e4c55"
      },
      "execution_count": 25,
      "outputs": [
        {
          "output_type": "display_data",
          "data": {
            "text/plain": [
              "<Figure size 800x600 with 1 Axes>"
            ],
            "image/png": "[encoded data removed]"
          },
          "metadata": {}
        }
      ]
    },
    {
      "cell_type": "code",
      "source": [
        "\n",
        "cast = []\n",
        "\n",
        "for i in range(0, len(df['scan'])):\n",
        "    if df['scan_type'][i] == 'MS2':\n",
        "          cast.append(df['cast spectra'][i])\n",
        "\n",
        "hash = model.predict(np.array(cast))\n"
      ],
      "metadata": {
        "colab": {
          "base_uri": "https://localhost:8080/"
        },
        "id": "NvZDcLrVKyDw",
        "outputId": "e507e1f2-fb1d-44c2-b9a5-b96c1c9e867c"
      },
      "execution_count": 26,
      "outputs": [
        {
          "output_type": "stream",
          "name": "stdout",
          "text": [
            "\u001b[1m602/602\u001b[0m \u001b[32m━━━━━━━━━━━━━━━━━━━━\u001b[0m\u001b[37m\u001b[0m \u001b[1m3s\u001b[0m 5ms/step\n"
          ]
        }
      ]
    },
    {
      "cell_type": "code",
      "source": [
        "X = np.array(cast)\n",
        "y = np.array(hash)\n",
        "\n",
        "X_train, X_test, y_train, y_test = train_test_split(X, y, test_size=0.1, random_state=100)\n"
      ],
      "metadata": {
        "id": "QxKxlaFUK3Bk"
      },
      "execution_count": 27,
      "outputs": []
    },
    {
      "cell_type": "code",
      "source": [
        "for layer in model.layers:\n",
        "        layer.trainable = False\n",
        "\n",
        "    # Create a new Sequential model and add the old model as a base\n",
        "new_model = tf.keras.Sequential([\n",
        "        model,  # Include the original model\n",
        "        tf.keras.layers.Dense(32, activation='relu', dtype='float16'),  # New layer\n",
        "        tf.keras.layers.Dense(1, activation='sigmoid', dtype='float16')  # Output layer\n",
        "    ])\n",
        "\n",
        "\n",
        "new_model.compile(optimizer='adam', loss='mean_squared_error', metrics=['mae'])\n",
        "\n",
        "history = new_model.fit(X_train, y_train, epochs=5, batch_size=512, validation_split=0.2)\n",
        "\n",
        "for layer in model.layers[-2:]:\n",
        "        layer.trainable = True\n",
        "\n",
        "# Recompile after unfreezing layers\n",
        "new_model.compile(optimizer=tf.keras.optimizers.Adam(learning_rate=1e-5), loss='mean_squared_error', metrics=['mae'])\n",
        "\n",
        "# Continue fine-tuning\n",
        "history_finetune = new_model.fit(X_train, y_train, epochs=10, batch_size=512, validation_split=0.2)\n",
        "\n"
      ],
      "metadata": {
        "id": "Jfs6YcH_gRT9",
        "outputId": "409dd785-0147-43a1-e222-92d9f20f41a7",
        "colab": {
          "base_uri": "https://localhost:8080/"
        }
      },
      "execution_count": 28,
      "outputs": [
        {
          "output_type": "stream",
          "name": "stdout",
          "text": [
            "Epoch 1/5\n",
            "\u001b[1m28/28\u001b[0m \u001b[32m━━━━━━━━━━━━━━━━━━━━\u001b[0m\u001b[37m\u001b[0m \u001b[1m2s\u001b[0m 24ms/step - loss: 0.1706 - mae: 0.3611 - val_loss: 0.0491 - val_mae: 0.1140\n",
            "Epoch 2/5\n",
            "\u001b[1m28/28\u001b[0m \u001b[32m━━━━━━━━━━━━━━━━━━━━\u001b[0m\u001b[37m\u001b[0m \u001b[1m1s\u001b[0m 13ms/step - loss: 0.0330 - mae: 0.1015 - val_loss: 0.0219 - val_mae: 0.1018\n",
            "Epoch 3/5\n",
            "\u001b[1m28/28\u001b[0m \u001b[32m━━━━━━━━━━━━━━━━━━━━\u001b[0m\u001b[37m\u001b[0m \u001b[1m1s\u001b[0m 13ms/step - loss: 0.0187 - mae: 0.0887 - val_loss: 0.0196 - val_mae: 0.0893\n",
            "Epoch 4/5\n",
            "\u001b[1m28/28\u001b[0m \u001b[32m━━━━━━━━━━━━━━━━━━━━\u001b[0m\u001b[37m\u001b[0m \u001b[1m1s\u001b[0m 14ms/step - loss: 0.0170 - mae: 0.0831 - val_loss: 0.0187 - val_mae: 0.0837\n",
            "Epoch 5/5\n",
            "\u001b[1m28/28\u001b[0m \u001b[32m━━━━━━━━━━━━━━━━━━━━\u001b[0m\u001b[37m\u001b[0m \u001b[1m1s\u001b[0m 15ms/step - loss: 0.0161 - mae: 0.0779 - val_loss: 0.0179 - val_mae: 0.0806\n",
            "Epoch 1/10\n",
            "\u001b[1m28/28\u001b[0m \u001b[32m━━━━━━━━━━━━━━━━━━━━\u001b[0m\u001b[37m\u001b[0m \u001b[1m8s\u001b[0m 24ms/step - loss: 0.0155 - mae: 0.0756 - val_loss: 0.0178 - val_mae: 0.0800\n",
            "Epoch 2/10\n",
            "\u001b[1m28/28\u001b[0m \u001b[32m━━━━━━━━━━━━━━━━━━━━\u001b[0m\u001b[37m\u001b[0m \u001b[1m1s\u001b[0m 14ms/step - loss: 0.0154 - mae: 0.0751 - val_loss: 0.0177 - val_mae: 0.0793\n",
            "Epoch 3/10\n",
            "\u001b[1m28/28\u001b[0m \u001b[32m━━━━━━━━━━━━━━━━━━━━\u001b[0m\u001b[37m\u001b[0m \u001b[1m1s\u001b[0m 14ms/step - loss: 0.0153 - mae: 0.0745 - val_loss: 0.0176 - val_mae: 0.0788\n",
            "Epoch 4/10\n",
            "\u001b[1m28/28\u001b[0m \u001b[32m━━━━━━━━━━━━━━━━━━━━\u001b[0m\u001b[37m\u001b[0m \u001b[1m0s\u001b[0m 13ms/step - loss: 0.0152 - mae: 0.0739 - val_loss: 0.0175 - val_mae: 0.0782\n",
            "Epoch 5/10\n",
            "\u001b[1m28/28\u001b[0m \u001b[32m━━━━━━━━━━━━━━━━━━━━\u001b[0m\u001b[37m\u001b[0m \u001b[1m0s\u001b[0m 16ms/step - loss: 0.0151 - mae: 0.0733 - val_loss: 0.0175 - val_mae: 0.0777\n",
            "Epoch 6/10\n",
            "\u001b[1m28/28\u001b[0m \u001b[32m━━━━━━━━━━━━━━━━━━━━\u001b[0m\u001b[37m\u001b[0m \u001b[1m1s\u001b[0m 15ms/step - loss: 0.0151 - mae: 0.0727 - val_loss: 0.0174 - val_mae: 0.0773\n",
            "Epoch 7/10\n",
            "\u001b[1m28/28\u001b[0m \u001b[32m━━━━━━━━━━━━━━━━━━━━\u001b[0m\u001b[37m\u001b[0m \u001b[1m1s\u001b[0m 16ms/step - loss: 0.0150 - mae: 0.0724 - val_loss: 0.0174 - val_mae: 0.0770\n",
            "Epoch 8/10\n",
            "\u001b[1m28/28\u001b[0m \u001b[32m━━━━━━━━━━━━━━━━━━━━\u001b[0m\u001b[37m\u001b[0m \u001b[1m1s\u001b[0m 13ms/step - loss: 0.0150 - mae: 0.0721 - val_loss: 0.0174 - val_mae: 0.0766\n",
            "Epoch 9/10\n",
            "\u001b[1m28/28\u001b[0m \u001b[32m━━━━━━━━━━━━━━━━━━━━\u001b[0m\u001b[37m\u001b[0m \u001b[1m1s\u001b[0m 13ms/step - loss: 0.0150 - mae: 0.0717 - val_loss: 0.0174 - val_mae: 0.0763\n",
            "Epoch 10/10\n",
            "\u001b[1m28/28\u001b[0m \u001b[32m━━━━━━━━━━━━━━━━━━━━\u001b[0m\u001b[37m\u001b[0m \u001b[1m1s\u001b[0m 13ms/step - loss: 0.0149 - mae: 0.0714 - val_loss: 0.0173 - val_mae: 0.0760\n"
          ]
        }
      ]
    },
    {
      "cell_type": "code",
      "source": [
        "cast = []\n",
        "\n",
        "for i in range(0, len(df['scan'])):\n",
        "    if df['scan_type'][i] == 'MS2':\n",
        "      if df['Uniprot ID'][i] == 'None':\n",
        "          cast.append(df['cast spectra'][i])\n",
        "\n",
        "hash = model.predict(np.array(cast))\n",
        "\n",
        "a = 0\n",
        "b = 0\n",
        "\n",
        "for i in range(0, len(hash)):\n",
        "  if hash[i] > 0.5:\n",
        "    a += 1\n",
        "  else:\n",
        "    b += 1\n",
        "\n",
        "print(a)\n",
        "print(b)"
      ],
      "metadata": {
        "id": "-hUHWcMAgiaO"
      },
      "execution_count": null,
      "outputs": []
    }
  ]
}