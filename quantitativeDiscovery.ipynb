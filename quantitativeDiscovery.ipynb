{
  "nbformat": 4,
  "nbformat_minor": 0,
  "metadata": {
    "colab": {
      "provenance": [],
      "mount_file_id": "1tHXS9BlarnanYBnSAbnvmuAUsKG7ZPUn",
      "authorship_tag": "ABX9TyMus4OTUuR4C9YY5Mj9HCUN",
      "include_colab_link": true
    },
    "kernelspec": {
      "name": "python3",
      "display_name": "Python 3"
    },
    "language_info": {
      "name": "python"
    }
  },
  "cells": [
    {
      "cell_type": "markdown",
      "metadata": {
        "id": "view-in-github",
        "colab_type": "text"
      },
      "source": [
        "<a href=\"https://colab.research.google.com/github/benjaminnigjeh/keyProteoforms/blob/main/quantitativeDiscovery.ipynb\" target=\"_parent\"><img src=\"https://colab.research.google.com/assets/colab-badge.svg\" alt=\"Open In Colab\"/></a>"
      ]
    },
    {
      "cell_type": "markdown",
      "source": [
        "#Import extrenal libraries"
      ],
      "metadata": {
        "id": "igbG-nwoJ5uz"
      }
    },
    {
      "cell_type": "code",
      "execution_count": null,
      "metadata": {
        "id": "p1koa7W34r_m"
      },
      "outputs": [],
      "source": [
        "import pandas as pd\n",
        "import matplotlib.pyplot as plt"
      ]
    },
    {
      "cell_type": "markdown",
      "source": [
        "#Import databank"
      ],
      "metadata": {
        "id": "L4jG4ekPJ9ef"
      }
    },
    {
      "cell_type": "code",
      "source": [
        "from google.colab import drive\n",
        "drive.mount('/content/drive')\n",
        "\n",
        "df = pd.read_hdf(\"/content/drive/MyDrive/databank_updated\", key=\"databank\")"
      ],
      "metadata": {
        "id": "YFhihCLA8GvE"
      },
      "execution_count": null,
      "outputs": []
    },
    {
      "cell_type": "markdown",
      "source": [
        "#Generate extracted ion chromatograms"
      ],
      "metadata": {
        "id": "c5WRJycPKBGu"
      }
    },
    {
      "cell_type": "code",
      "source": [
        "df = df[df[\"scan_type\"] == \"MS1\"]\n",
        "df = df[df[\"sample_prep\"] == \"Pellet\"]\n",
        "df = df[df[\"group_name\"] == \"Normal Healthy\"]\n",
        "\n",
        "extracted_ions = []\n",
        "\n",
        "for i in range(0, 40, 1):\n",
        "    filtered_df = df[(df[\"retntion time\"] >= i) & (df[\"retntion time\"] <= i + 1)]\n",
        "    element_wise_sum = [sum(x) for x in zip(*filtered_df[\"cast spectra\"])]\n",
        "    extracted_ions.append(element_wise_sum)"
      ],
      "metadata": {
        "id": "K2LMKFBtJfxa"
      },
      "execution_count": null,
      "outputs": []
    },
    {
      "cell_type": "markdown",
      "source": [
        "#Helper functions"
      ],
      "metadata": {
        "id": "nHVHuvrJKGL7"
      }
    },
    {
      "cell_type": "code",
      "source": [
        "def profile(extracted_ions, mass):\n",
        "    n = int((mass-600)*10)\n",
        "    addition = []\n",
        "    for i in range(0, len(extracted_ions)):\n",
        "        start = max(n - 5, 0)  # Ensure we don't go below index 0\n",
        "        end = min(n + 5 + 1, len(extracted_ions[i]))  # Ensure we don't exceed the list length\n",
        "        neighbors_sum = sum(extracted_ions[i][start:n]) + sum(extracted_ions[i][n:end])\n",
        "        addition.append(neighbors_sum)\n",
        "    return(addition)\n",
        "\n",
        "\n",
        "def plot_multiple_y(x_values, y_values_list, labels=None):\n",
        "    plt.figure(figsize=(8, 5))\n",
        "\n",
        "    # If no labels are provided, generate default labels\n",
        "    if labels is None:\n",
        "        labels = [f\"Series {i+1}\" for i in range(len(y_values_list))]\n",
        "\n",
        "    # Plot each y-values list\n",
        "    for y_values, label in zip(y_values_list, labels):\n",
        "        plt.plot(x_values, y_values, marker=\"o\", linestyle=\"-\", label=label)\n",
        "\n",
        "    # Labels and title\n",
        "    plt.xlabel(\"Retention time / minute\")\n",
        "    plt.ylabel(\"Intensity\")\n",
        "    plt.title(\"\")\n",
        "    plt.ylim((0,2.2e9))\n",
        "    plt.legend()\n",
        "    plt.grid(True)\n",
        "\n",
        "    # Show plot\n",
        "    plt.show()\n",
        "\n"
      ],
      "metadata": {
        "id": "8Vpt2XT36V43"
      },
      "execution_count": null,
      "outputs": []
    },
    {
      "cell_type": "markdown",
      "source": [
        "#Generate charge state profiles"
      ],
      "metadata": {
        "id": "_8xAnNMgKKYP"
      }
    },
    {
      "cell_type": "code",
      "source": [
        "x_values = list(range(1, 41))  # X values from 1 to 40\n",
        "y1 = profile(extracted_ions, 813.3)  # First series\n",
        "y2 = profile(extracted_ions,861)  # Second series\n",
        "y3 = profile(extracted_ions,915)  # Third series\n",
        "y4 = profile(extracted_ions,975.8)  # Fourth series\n",
        "y5 = profile(extracted_ions,1045.6)  # Fifth series\n",
        "y6 = profile(extracted_ions,1125.9)  # Sixth series\n",
        "\n",
        "from itertools import zip_longest\n",
        "lists = [y1, y2, y3, y4, y5, y6]\n",
        "sums = [sum(values) for values in zip_longest(*lists, fillvalue=0)]\n",
        "# Call the function with multiple Y lists\n",
        "plot_multiple_y(x_values, [y1, y2, y3, y4, y5, y6, sums], labels=[24, 23, 21, 10, 19, 17, 'sums'])\n"
      ],
      "metadata": {
        "id": "ywiqCEPLJYuX"
      },
      "execution_count": null,
      "outputs": []
    },
    {
      "cell_type": "code",
      "source": [
        "def identification(df, mz, retention):\n",
        "    mzz = []\n",
        "    ret = []\n",
        "    sample = []\n",
        "    scan = []\n",
        "    Uniprot = []\n",
        "    MASS = []\n",
        "    seq = []\n",
        "    df[\"m/z\"] = pd.to_numeric(df[\"m/z\"], errors=\"coerce\")\n",
        "    for i in range(0, len(df['m/z'])):\n",
        "        if mz - 1 < df['m/z'][i] < mz + 1 :\n",
        "            if retention - 2  < df['retntion time'][i] < retention + 2:\n",
        "                mzz.append(mz)\n",
        "                ret.append(retention)\n",
        "                seq.append(df['sequence'][i])\n",
        "                sample.append(df['sample_name'][i])\n",
        "                scan.append(df['scan'][i])\n",
        "                Uniprot.append(df['Uniprot ID'][i])\n",
        "                MASS.append(df['MASS'][i])\n",
        "    mydic = {'mz': mzz,'retention': ret, 'sample': sample, 'scan': scan, 'uniprot': Uniprot, 'MW': MASS, 'seq': seq}\n",
        "    return(mydic)\n"
      ],
      "metadata": {
        "id": "2KDTHqpW9SQE"
      },
      "execution_count": null,
      "outputs": []
    },
    {
      "cell_type": "code",
      "source": [
        "positive = [813.3, 861, 915, 975.8, 1045.6, 1125.9]\n",
        "negative = [874, 932.2, 998.6, 1075.5, 1397.7, 1571.2]\n",
        "\n",
        "df_list = []\n",
        "for ii in negative:\n",
        "    a = pd.DataFrame(identification(df, ii, 25))\n",
        "    if a is not None:\n",
        "        df_list.append(a)\n",
        "\n",
        "df_combined = pd.concat(df_list, ignore_index=True)\n",
        "\n",
        "df_combined.to_csv('D:/negative.csv')"
      ],
      "metadata": {
        "id": "cgfZc0I49Tqc"
      },
      "execution_count": null,
      "outputs": []
    }
  ]
}