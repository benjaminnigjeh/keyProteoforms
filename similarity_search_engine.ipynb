{
  "nbformat": 4,
  "nbformat_minor": 0,
  "metadata": {
    "colab": {
      "provenance": [],
      "authorship_tag": "ABX9TyN4C551kuu7/RJSh+4bHYFq",
      "include_colab_link": true
    },
    "kernelspec": {
      "name": "python3",
      "display_name": "Python 3"
    },
    "language_info": {
      "name": "python"
    }
  },
  "cells": [
    {
      "cell_type": "markdown",
      "metadata": {
        "id": "view-in-github",
        "colab_type": "text"
      },
      "source": [
        "<a href=\"https://colab.research.google.com/github/benjaminnigjeh/keyProteoforms/blob/main/similarity_search_engine.ipynb\" target=\"_parent\"><img src=\"https://colab.research.google.com/assets/colab-badge.svg\" alt=\"Open In Colab\"/></a>"
      ]
    },
    {
      "cell_type": "markdown",
      "source": [
        "#Import external libraries"
      ],
      "metadata": {
        "id": "w4cmO3QW_nr6"
      }
    },
    {
      "cell_type": "code",
      "execution_count": 35,
      "metadata": {
        "id": "CdpIHDgVwsrz"
      },
      "outputs": [],
      "source": [
        "import hashlib\n",
        "import random\n",
        "import numpy as np\n",
        "import tensorflow as tf\n",
        "import matplotlib.pyplot as plt\n",
        "import seaborn as sns\n",
        "import pandas as pd\n",
        "import ast\n",
        "from google.colab import files\n",
        "from sklearn.model_selection import train_test_split\n",
        "from sklearn.metrics import confusion_matrix\n",
        "from sklearn.metrics import ConfusionMatrixDisplay\n",
        "\n",
        "np.random.seed(42)\n",
        "tf.random.set_seed(42)\n",
        "random.seed(100)"
      ]
    },
    {
      "cell_type": "markdown",
      "source": [
        "#Helper Functions"
      ],
      "metadata": {
        "id": "lIHIZnzBC5VQ"
      }
    },
    {
      "cell_type": "code",
      "source": [
        "class MinHash:\n",
        "    def __init__(self, num_hashes=100):\n",
        "        self.num_hashes = num_hashes\n",
        "        self.seeds = [random.randint(0, 2**32 - 1) for _ in range(num_hashes)]\n",
        "\n",
        "    def _hash(self, x, seed):\n",
        "        return int(hashlib.md5((str(seed) + x).encode('utf8')).hexdigest(), 16)\n",
        "\n",
        "    def compute(self, set_data):\n",
        "        min_hashes = [min(self._hash(el, seed) for el in set_data) for seed in self.seeds]\n",
        "        return min_hashes\n",
        "\n",
        "    def jaccard_similarity(self, set1, set2):\n",
        "        min_hash1 = self.compute(set1)\n",
        "        min_hash2 = self.compute(set2)\n",
        "        return sum(1 for a, b in zip(min_hash1, min_hash2) if a == b) / self.num_hashes\n",
        "\n",
        "\n",
        "def hashing(str1, str2):\n",
        "\n",
        "    n = 3\n",
        "    set1 = {str1[i:i+n] for i in range(len(str1) - n + 1)}\n",
        "    set2 = {str2[i:i+n] for i in range(len(str2) - n + 1)}\n",
        "    minhash = MinHash(num_hashes=100)\n",
        "    similarity = minhash.jaccard_similarity(set1, set2)\n",
        "    return(1 - similarity)\n",
        "\n",
        "def plot_distribution(data):\n",
        "    if isinstance(data, list):\n",
        "        data = np.array(data)\n",
        "\n",
        "    plt.figure(figsize=(10, 6))\n",
        "\n",
        "    sns.histplot(data, bins=30, kde=True, color='blue', alpha=0.6, stat='density')\n",
        "\n",
        "    plt.xlabel('Value')\n",
        "    plt.ylabel('Density')\n",
        "    plt.title('Distribution of Numbers')\n",
        "\n",
        "    plt.grid(True)\n",
        "    plt.show()\n",
        "\n",
        "def plot_confusion_matrix(model, X_test, y_test):\n",
        "  y_true = [0 if x < 0.5 else 1 for x in y_test]\n",
        "  y_pred = [0 if x < 0.5 else 1 for x in model.predict(X_test)]\n",
        "\n",
        "  cm = confusion_matrix(y_true, y_pred)\n",
        "  disp = ConfusionMatrixDisplay(confusion_matrix=cm, display_labels=np.unique(y_true))\n",
        "  disp.plot(cmap=plt.cm.Blues)\n",
        "  plt.title('Confusion Matrix')\n",
        "  plt.show()"
      ],
      "metadata": {
        "id": "UG2N_r-xzkg8"
      },
      "execution_count": 34,
      "outputs": []
    },
    {
      "cell_type": "markdown",
      "source": [
        "#Import databank"
      ],
      "metadata": {
        "id": "UxdtEnM2qT6x"
      }
    },
    {
      "cell_type": "code",
      "source": [
        "from google.colab import drive\n",
        "drive.mount('/content/drive')\n",
        "\n",
        "df = pd.read_hdf(\"/content/drive/MyDrive/databank_updated\", key=\"databank\")"
      ],
      "metadata": {
        "colab": {
          "base_uri": "https://localhost:8080/"
        },
        "id": "bmHVtL5jpn1Q",
        "outputId": "7f59ce2a-1c32-4fb7-a694-d955acfc4c56"
      },
      "execution_count": 3,
      "outputs": [
        {
          "output_type": "stream",
          "name": "stdout",
          "text": [
            "Mounted at /content/drive\n"
          ]
        }
      ]
    },
    {
      "cell_type": "markdown",
      "source": [
        "#Build training dataset"
      ],
      "metadata": {
        "id": "Fq0fK5lt-Cpr"
      }
    },
    {
      "cell_type": "code",
      "source": [
        "id = []\n",
        "sequence = []\n",
        "cast = []\n",
        "\n",
        "for i in range(0, len(df['scan'])):\n",
        "    if df['scan_type'][i] == 'MS2':\n",
        "        if df['Uniprot ID'][i] != 'None':\n",
        "            id.append(df['Uniprot ID'][i])\n",
        "            sequence.append(df['sequence'][i])\n",
        "            cast.append(df['cast spectra'][i])\n",
        "\n",
        "ref_seq = 'MDVFMKGLSKAKEGVVAAAEKTKQGVAEAAGKTKEGVLYVGSKTKEGVVHGVATVAEKTKEQVTNVGGAVVTGVTAVAQKTVEGAGSIAAATGFVKKDQLGKNEEGAPQEGILEDMPVDPDNEAYEMPSEEGYQDYEPEA'"
      ],
      "metadata": {
        "id": "wbwLWXYeu9Nt"
      },
      "execution_count": 77,
      "outputs": []
    },
    {
      "cell_type": "markdown",
      "source": [
        "#Reshape training dataset"
      ],
      "metadata": {
        "id": "1i9jeIKQHaQm"
      }
    },
    {
      "cell_type": "code",
      "source": [
        "cast_flat = []\n",
        "hash = []\n",
        "\n",
        "for i in range(0, len(sequence)):\n",
        "    cast_flat.append(cast[i])\n",
        "    hash.append(hashing(sequence[i], ref_seq))\n",
        "\n",
        "X = np.array(cast_flat)\n",
        "y = np.array(hash)\n",
        "\n",
        "X_train, X_test, y_train, y_test = train_test_split(X, y, test_size=0.1, random_state=100)\n"
      ],
      "metadata": {
        "id": "BmTy0ndy1hN5"
      },
      "execution_count": 78,
      "outputs": []
    },
    {
      "cell_type": "markdown",
      "source": [
        "#Train neural network model"
      ],
      "metadata": {
        "id": "CdLAnvfzHtRa"
      }
    },
    {
      "cell_type": "code",
      "source": [
        "import matplotlib.pyplot as plt\n",
        "import tensorflow as tf\n",
        "\n",
        "# Define model\n",
        "model = tf.keras.Sequential([\n",
        "    tf.keras.layers.Dense(128, activation='relu', input_shape=(1600,)),\n",
        "    tf.keras.layers.Dense(64, activation='relu'),\n",
        "    tf.keras.layers.Dense(1, activation='sigmoid')\n",
        "])\n",
        "\n",
        "# Compile the model\n",
        "model.compile(optimizer='adam', loss='mean_squared_error', metrics=['mae'])\n",
        "\n",
        "# Train the model and store training history\n",
        "history = model.fit(X_train, y_train, epochs=40, batch_size=512, validation_split=0.2)\n",
        "\n",
        "# Evaluate on test data\n",
        "test_loss, test_mae = model.evaluate(X_test, y_test)\n",
        "print(f\"Test Loss (MSE): {test_loss:.4f}\")\n",
        "\n",
        "# 🎨 Plot loss curve\n",
        "plt.figure(figsize=(8, 5))\n",
        "plt.plot(history.history['loss'], label='Training Loss', color='blue')\n",
        "plt.plot(history.history['val_loss'], label='Validation Loss', color='red')\n",
        "plt.xlabel('Epochs')\n",
        "plt.ylabel('Loss (MSE)')\n",
        "plt.title('Training and Validation Loss Over Epochs')\n",
        "plt.legend()\n",
        "plt.grid(True)\n",
        "plt.show()\n"
      ],
      "metadata": {
        "colab": {
          "base_uri": "https://localhost:8080/",
          "height": 1000
        },
        "id": "EOZG_eVAzSIl",
        "outputId": "57bb6f7d-ff41-404f-ad25-b2e644133fa9"
      },
      "execution_count": 79,
      "outputs": [
        {
          "output_type": "stream",
          "name": "stdout",
          "text": [
            "Epoch 1/40\n"
          ]
        },
        {
          "output_type": "stream",
          "name": "stderr",
          "text": [
            "/usr/local/lib/python3.11/dist-packages/keras/src/layers/core/dense.py:87: UserWarning: Do not pass an `input_shape`/`input_dim` argument to a layer. When using Sequential models, prefer using an `Input(shape)` object as the first layer in the model instead.\n",
            "  super().__init__(activity_regularizer=activity_regularizer, **kwargs)\n"
          ]
        },
        {
          "output_type": "stream",
          "name": "stdout",
          "text": [
            "\u001b[1m7/7\u001b[0m \u001b[32m━━━━━━━━━━━━━━━━━━━━\u001b[0m\u001b[37m\u001b[0m \u001b[1m2s\u001b[0m 57ms/step - loss: 0.1811 - mae: 0.4137 - val_loss: 0.0806 - val_mae: 0.2211\n",
            "Epoch 2/40\n",
            "\u001b[1m7/7\u001b[0m \u001b[32m━━━━━━━━━━━━━━━━━━━━\u001b[0m\u001b[37m\u001b[0m \u001b[1m0s\u001b[0m 30ms/step - loss: 0.0732 - mae: 0.1933 - val_loss: 0.0621 - val_mae: 0.1400\n",
            "Epoch 3/40\n",
            "\u001b[1m7/7\u001b[0m \u001b[32m━━━━━━━━━━━━━━━━━━━━\u001b[0m\u001b[37m\u001b[0m \u001b[1m0s\u001b[0m 24ms/step - loss: 0.0595 - mae: 0.1347 - val_loss: 0.0547 - val_mae: 0.1265\n",
            "Epoch 4/40\n",
            "\u001b[1m7/7\u001b[0m \u001b[32m━━━━━━━━━━━━━━━━━━━━\u001b[0m\u001b[37m\u001b[0m \u001b[1m0s\u001b[0m 24ms/step - loss: 0.0532 - mae: 0.1236 - val_loss: 0.0479 - val_mae: 0.1192\n",
            "Epoch 5/40\n",
            "\u001b[1m7/7\u001b[0m \u001b[32m━━━━━━━━━━━━━━━━━━━━\u001b[0m\u001b[37m\u001b[0m \u001b[1m0s\u001b[0m 24ms/step - loss: 0.0464 - mae: 0.1157 - val_loss: 0.0406 - val_mae: 0.1093\n",
            "Epoch 6/40\n",
            "\u001b[1m7/7\u001b[0m \u001b[32m━━━━━━━━━━━━━━━━━━━━\u001b[0m\u001b[37m\u001b[0m \u001b[1m0s\u001b[0m 30ms/step - loss: 0.0389 - mae: 0.1053 - val_loss: 0.0329 - val_mae: 0.0989\n",
            "Epoch 7/40\n",
            "\u001b[1m7/7\u001b[0m \u001b[32m━━━━━━━━━━━━━━━━━━━━\u001b[0m\u001b[37m\u001b[0m \u001b[1m0s\u001b[0m 31ms/step - loss: 0.0305 - mae: 0.0938 - val_loss: 0.0250 - val_mae: 0.0856\n",
            "Epoch 8/40\n",
            "\u001b[1m7/7\u001b[0m \u001b[32m━━━━━━━━━━━━━━━━━━━━\u001b[0m\u001b[37m\u001b[0m \u001b[1m0s\u001b[0m 37ms/step - loss: 0.0219 - mae: 0.0796 - val_loss: 0.0199 - val_mae: 0.0737\n",
            "Epoch 9/40\n",
            "\u001b[1m7/7\u001b[0m \u001b[32m━━━━━━━━━━━━━━━━━━━━\u001b[0m\u001b[37m\u001b[0m \u001b[1m0s\u001b[0m 39ms/step - loss: 0.0157 - mae: 0.0664 - val_loss: 0.0169 - val_mae: 0.0636\n",
            "Epoch 10/40\n",
            "\u001b[1m7/7\u001b[0m \u001b[32m━━━━━━━━━━━━━━━━━━━━\u001b[0m\u001b[37m\u001b[0m \u001b[1m0s\u001b[0m 41ms/step - loss: 0.0119 - mae: 0.0549 - val_loss: 0.0151 - val_mae: 0.0564\n",
            "Epoch 11/40\n",
            "\u001b[1m7/7\u001b[0m \u001b[32m━━━━━━━━━━━━━━━━━━━━\u001b[0m\u001b[37m\u001b[0m \u001b[1m0s\u001b[0m 37ms/step - loss: 0.0096 - mae: 0.0473 - val_loss: 0.0147 - val_mae: 0.0521\n",
            "Epoch 12/40\n",
            "\u001b[1m7/7\u001b[0m \u001b[32m━━━━━━━━━━━━━━━━━━━━\u001b[0m\u001b[37m\u001b[0m \u001b[1m0s\u001b[0m 41ms/step - loss: 0.0081 - mae: 0.0426 - val_loss: 0.0143 - val_mae: 0.0493\n",
            "Epoch 13/40\n",
            "\u001b[1m7/7\u001b[0m \u001b[32m━━━━━━━━━━━━━━━━━━━━\u001b[0m\u001b[37m\u001b[0m \u001b[1m1s\u001b[0m 41ms/step - loss: 0.0070 - mae: 0.0394 - val_loss: 0.0139 - val_mae: 0.0472\n",
            "Epoch 14/40\n",
            "\u001b[1m7/7\u001b[0m \u001b[32m━━━━━━━━━━━━━━━━━━━━\u001b[0m\u001b[37m\u001b[0m \u001b[1m0s\u001b[0m 42ms/step - loss: 0.0061 - mae: 0.0370 - val_loss: 0.0135 - val_mae: 0.0457\n",
            "Epoch 15/40\n",
            "\u001b[1m7/7\u001b[0m \u001b[32m━━━━━━━━━━━━━━━━━━━━\u001b[0m\u001b[37m\u001b[0m \u001b[1m0s\u001b[0m 46ms/step - loss: 0.0054 - mae: 0.0351 - val_loss: 0.0132 - val_mae: 0.0445\n",
            "Epoch 16/40\n",
            "\u001b[1m7/7\u001b[0m \u001b[32m━━━━━━━━━━━━━━━━━━━━\u001b[0m\u001b[37m\u001b[0m \u001b[1m0s\u001b[0m 40ms/step - loss: 0.0048 - mae: 0.0336 - val_loss: 0.0129 - val_mae: 0.0435\n",
            "Epoch 17/40\n",
            "\u001b[1m7/7\u001b[0m \u001b[32m━━━━━━━━━━━━━━━━━━━━\u001b[0m\u001b[37m\u001b[0m \u001b[1m0s\u001b[0m 43ms/step - loss: 0.0043 - mae: 0.0325 - val_loss: 0.0126 - val_mae: 0.0427\n",
            "Epoch 18/40\n",
            "\u001b[1m7/7\u001b[0m \u001b[32m━━━━━━━━━━━━━━━━━━━━\u001b[0m\u001b[37m\u001b[0m \u001b[1m0s\u001b[0m 36ms/step - loss: 0.0039 - mae: 0.0314 - val_loss: 0.0123 - val_mae: 0.0419\n",
            "Epoch 19/40\n",
            "\u001b[1m7/7\u001b[0m \u001b[32m━━━━━━━━━━━━━━━━━━━━\u001b[0m\u001b[37m\u001b[0m \u001b[1m0s\u001b[0m 27ms/step - loss: 0.0036 - mae: 0.0304 - val_loss: 0.0122 - val_mae: 0.0411\n",
            "Epoch 20/40\n",
            "\u001b[1m7/7\u001b[0m \u001b[32m━━━━━━━━━━━━━━━━━━━━\u001b[0m\u001b[37m\u001b[0m \u001b[1m0s\u001b[0m 24ms/step - loss: 0.0033 - mae: 0.0295 - val_loss: 0.0121 - val_mae: 0.0406\n",
            "Epoch 21/40\n",
            "\u001b[1m7/7\u001b[0m \u001b[32m━━━━━━━━━━━━━━━━━━━━\u001b[0m\u001b[37m\u001b[0m \u001b[1m0s\u001b[0m 23ms/step - loss: 0.0030 - mae: 0.0286 - val_loss: 0.0121 - val_mae: 0.0403\n",
            "Epoch 22/40\n",
            "\u001b[1m7/7\u001b[0m \u001b[32m━━━━━━━━━━━━━━━━━━━━\u001b[0m\u001b[37m\u001b[0m \u001b[1m0s\u001b[0m 23ms/step - loss: 0.0028 - mae: 0.0279 - val_loss: 0.0121 - val_mae: 0.0400\n",
            "Epoch 23/40\n",
            "\u001b[1m7/7\u001b[0m \u001b[32m━━━━━━━━━━━━━━━━━━━━\u001b[0m\u001b[37m\u001b[0m \u001b[1m0s\u001b[0m 25ms/step - loss: 0.0026 - mae: 0.0272 - val_loss: 0.0121 - val_mae: 0.0397\n",
            "Epoch 24/40\n",
            "\u001b[1m7/7\u001b[0m \u001b[32m━━━━━━━━━━━━━━━━━━━━\u001b[0m\u001b[37m\u001b[0m \u001b[1m0s\u001b[0m 24ms/step - loss: 0.0025 - mae: 0.0266 - val_loss: 0.0121 - val_mae: 0.0395\n",
            "Epoch 25/40\n",
            "\u001b[1m7/7\u001b[0m \u001b[32m━━━━━━━━━━━━━━━━━━━━\u001b[0m\u001b[37m\u001b[0m \u001b[1m0s\u001b[0m 24ms/step - loss: 0.0024 - mae: 0.0261 - val_loss: 0.0121 - val_mae: 0.0393\n",
            "Epoch 26/40\n",
            "\u001b[1m7/7\u001b[0m \u001b[32m━━━━━━━━━━━━━━━━━━━━\u001b[0m\u001b[37m\u001b[0m \u001b[1m0s\u001b[0m 24ms/step - loss: 0.0022 - mae: 0.0256 - val_loss: 0.0120 - val_mae: 0.0390\n",
            "Epoch 27/40\n",
            "\u001b[1m7/7\u001b[0m \u001b[32m━━━━━━━━━━━━━━━━━━━━\u001b[0m\u001b[37m\u001b[0m \u001b[1m0s\u001b[0m 26ms/step - loss: 0.0022 - mae: 0.0252 - val_loss: 0.0121 - val_mae: 0.0389\n",
            "Epoch 28/40\n",
            "\u001b[1m7/7\u001b[0m \u001b[32m━━━━━━━━━━━━━━━━━━━━\u001b[0m\u001b[37m\u001b[0m \u001b[1m0s\u001b[0m 24ms/step - loss: 0.0021 - mae: 0.0248 - val_loss: 0.0119 - val_mae: 0.0385\n",
            "Epoch 29/40\n",
            "\u001b[1m7/7\u001b[0m \u001b[32m━━━━━━━━━━━━━━━━━━━━\u001b[0m\u001b[37m\u001b[0m \u001b[1m0s\u001b[0m 29ms/step - loss: 0.0020 - mae: 0.0246 - val_loss: 0.0121 - val_mae: 0.0385\n",
            "Epoch 30/40\n",
            "\u001b[1m7/7\u001b[0m \u001b[32m━━━━━━━━━━━━━━━━━━━━\u001b[0m\u001b[37m\u001b[0m \u001b[1m0s\u001b[0m 25ms/step - loss: 0.0019 - mae: 0.0242 - val_loss: 0.0117 - val_mae: 0.0380\n",
            "Epoch 31/40\n",
            "\u001b[1m7/7\u001b[0m \u001b[32m━━━━━━━━━━━━━━━━━━━━\u001b[0m\u001b[37m\u001b[0m \u001b[1m0s\u001b[0m 26ms/step - loss: 0.0019 - mae: 0.0241 - val_loss: 0.0121 - val_mae: 0.0383\n",
            "Epoch 32/40\n",
            "\u001b[1m7/7\u001b[0m \u001b[32m━━━━━━━━━━━━━━━━━━━━\u001b[0m\u001b[37m\u001b[0m \u001b[1m0s\u001b[0m 29ms/step - loss: 0.0018 - mae: 0.0237 - val_loss: 0.0114 - val_mae: 0.0375\n",
            "Epoch 33/40\n",
            "\u001b[1m7/7\u001b[0m \u001b[32m━━━━━━━━━━━━━━━━━━━━\u001b[0m\u001b[37m\u001b[0m \u001b[1m0s\u001b[0m 23ms/step - loss: 0.0018 - mae: 0.0237 - val_loss: 0.0121 - val_mae: 0.0380\n",
            "Epoch 34/40\n",
            "\u001b[1m7/7\u001b[0m \u001b[32m━━━━━━━━━━━━━━━━━━━━\u001b[0m\u001b[37m\u001b[0m \u001b[1m0s\u001b[0m 23ms/step - loss: 0.0017 - mae: 0.0233 - val_loss: 0.0115 - val_mae: 0.0373\n",
            "Epoch 35/40\n",
            "\u001b[1m7/7\u001b[0m \u001b[32m━━━━━━━━━━━━━━━━━━━━\u001b[0m\u001b[37m\u001b[0m \u001b[1m0s\u001b[0m 28ms/step - loss: 0.0017 - mae: 0.0232 - val_loss: 0.0118 - val_mae: 0.0376\n",
            "Epoch 36/40\n",
            "\u001b[1m7/7\u001b[0m \u001b[32m━━━━━━━━━━━━━━━━━━━━\u001b[0m\u001b[37m\u001b[0m \u001b[1m0s\u001b[0m 24ms/step - loss: 0.0017 - mae: 0.0230 - val_loss: 0.0117 - val_mae: 0.0374\n",
            "Epoch 37/40\n",
            "\u001b[1m7/7\u001b[0m \u001b[32m━━━━━━━━━━━━━━━━━━━━\u001b[0m\u001b[37m\u001b[0m \u001b[1m0s\u001b[0m 24ms/step - loss: 0.0017 - mae: 0.0228 - val_loss: 0.0113 - val_mae: 0.0368\n",
            "Epoch 38/40\n",
            "\u001b[1m7/7\u001b[0m \u001b[32m━━━━━━━━━━━━━━━━━━━━\u001b[0m\u001b[37m\u001b[0m \u001b[1m0s\u001b[0m 24ms/step - loss: 0.0017 - mae: 0.0228 - val_loss: 0.0120 - val_mae: 0.0376\n",
            "Epoch 39/40\n",
            "\u001b[1m7/7\u001b[0m \u001b[32m━━━━━━━━━━━━━━━━━━━━\u001b[0m\u001b[37m\u001b[0m \u001b[1m0s\u001b[0m 29ms/step - loss: 0.0016 - mae: 0.0225 - val_loss: 0.0108 - val_mae: 0.0365\n",
            "Epoch 40/40\n",
            "\u001b[1m7/7\u001b[0m \u001b[32m━━━━━━━━━━━━━━━━━━━━\u001b[0m\u001b[37m\u001b[0m \u001b[1m0s\u001b[0m 25ms/step - loss: 0.0016 - mae: 0.0225 - val_loss: 0.0116 - val_mae: 0.0370\n",
            "\u001b[1m15/15\u001b[0m \u001b[32m━━━━━━━━━━━━━━━━━━━━\u001b[0m\u001b[37m\u001b[0m \u001b[1m0s\u001b[0m 4ms/step - loss: 0.0141 - mae: 0.0401 \n",
            "Test Loss (MSE): 0.0123\n"
          ]
        },
        {
          "output_type": "display_data",
          "data": {
            "text/plain": [
              "<Figure size 800x500 with 1 Axes>"
            ],
            "image/png": "[encoded data removed]"
          },
          "metadata": {}
        }
      ]
    },
    {
      "cell_type": "markdown",
      "source": [
        "#Performace evaluation by confusion matrices"
      ],
      "metadata": {
        "id": "Joi0AYkEH9EZ"
      }
    },
    {
      "cell_type": "code",
      "source": [
        "from sklearn.metrics import confusion_matrix, ConfusionMatrixDisplay\n",
        "import numpy as np\n",
        "import matplotlib.pyplot as plt\n",
        "\n",
        "def plot_confusion_matrix(model, X_test, y_test):\n",
        "    # Ensure y_test is binary (0 or 1)\n",
        "    #y_test = np.array(y_test).astype(int)  # ✅ Convert to integer if needed\n",
        "    y_test = np.where(np.array(y_test) > 0.5, 1, 0).astype(int)\n",
        "\n",
        "    # Get model predictions\n",
        "    y_scores = model.predict(X_test)\n",
        "\n",
        "    # Convert predictions to binary labels\n",
        "    y_pred = (y_scores >= 0.5).astype(int).flatten()  # ✅ Convert float → int\n",
        "\n",
        "    # Ensure shapes match\n",
        "    if y_test.shape != y_pred.shape:\n",
        "        print(f\"Shape mismatch: y_test {y_test.shape}, y_pred {y_pred.shape}\")\n",
        "        y_test = y_test.flatten()\n",
        "\n",
        "    # Compute confusion matrix\n",
        "    cm = confusion_matrix(y_test, y_pred)\n",
        "\n",
        "    # Display the confusion matrix\n",
        "    disp = ConfusionMatrixDisplay(confusion_matrix=cm, display_labels=[0, 1])\n",
        "    disp.plot(cmap=plt.cm.Blues)\n",
        "\n",
        "    # Show the plot\n",
        "    plt.show()\n",
        "\n",
        "# Call the function\n",
        "plot_confusion_matrix(model, X_test, y_test)"
      ],
      "metadata": {
        "colab": {
          "base_uri": "https://localhost:8080/",
          "height": 468
        },
        "id": "hkYFWrp5yd4M",
        "outputId": "820e4f51-2db1-4668-cbf0-572d8a6781fe"
      },
      "execution_count": 80,
      "outputs": [
        {
          "output_type": "stream",
          "name": "stdout",
          "text": [
            "\u001b[1m15/15\u001b[0m \u001b[32m━━━━━━━━━━━━━━━━━━━━\u001b[0m\u001b[37m\u001b[0m \u001b[1m0s\u001b[0m 7ms/step\n"
          ]
        },
        {
          "output_type": "display_data",
          "data": {
            "text/plain": [
              "<Figure size 640x480 with 2 Axes>"
            ],
            "image/png": "[encoded data removed]"
          },
          "metadata": {}
        }
      ]
    },
    {
      "cell_type": "markdown",
      "source": [
        "#Frequency distribution graph"
      ],
      "metadata": {
        "id": "8KnPFoAkRc_8"
      }
    },
    {
      "cell_type": "code",
      "source": [
        "import numpy as np\n",
        "import matplotlib.pyplot as plt\n",
        "import seaborn as sns\n",
        "\n",
        "# Generate sample data\n",
        "data = np.array(hash)  # Normally distributed data\n",
        "\n",
        "# Plot the frequency distribution\n",
        "plt.figure(figsize=(8, 6))\n",
        "sns.histplot(data, bins=100, kde=True, color='blue', legend=False)\n",
        "\n",
        "plt.yscale('log', base=2)\n",
        "# Labels and title\n",
        "plt.xlabel('Value')\n",
        "plt.ylabel('Frequency')\n",
        "plt.title('Frequency Distribution')\n",
        "\n",
        "# Show the plot\n",
        "plt.show()\n"
      ],
      "metadata": {
        "id": "GFGpsw00AVJz"
      },
      "execution_count": null,
      "outputs": []
    },
    {
      "cell_type": "markdown",
      "source": [
        "#generate labels on All MS2 using pretrained model"
      ],
      "metadata": {
        "id": "-HtSpc2kRq-D"
      }
    },
    {
      "cell_type": "code",
      "source": [
        "\n",
        "cast = []\n",
        "\n",
        "for i in range(0, len(df['scan'])):\n",
        "    if df['scan_type'][i] == 'MS2':\n",
        "          cast.append(df['cast spectra'][i])\n",
        "\n",
        "hash = model.predict(np.array(cast))\n"
      ],
      "metadata": {
        "id": "_lq-au4iBOXg"
      },
      "execution_count": 65,
      "outputs": []
    },
    {
      "cell_type": "markdown",
      "source": [
        "#update training datasets"
      ],
      "metadata": {
        "id": "CjMBpo3mRzym"
      }
    },
    {
      "cell_type": "code",
      "source": [
        "X = np.array(cast)\n",
        "y = np.array(hash)\n",
        "\n",
        "X_train, X_test, y_train, y_test = train_test_split(X, y, test_size=0.1, random_state=100)\n"
      ],
      "metadata": {
        "id": "tnGVu9A6H8cm"
      },
      "execution_count": 68,
      "outputs": []
    }
  ]
}